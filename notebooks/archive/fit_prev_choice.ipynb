{
 "cells": [
  {
   "cell_type": "markdown",
   "id": "67781e3b-5628-4416-a684-e78c2cca2477",
   "metadata": {},
   "source": [
    "# Fit previous-choice regression model"
   ]
  },
  {
   "cell_type": "code",
   "execution_count": 1,
   "id": "7a8c8374-150a-4c2f-87fa-d97abb1fbf02",
   "metadata": {
    "tags": []
   },
   "outputs": [],
   "source": [
    "import numpy as np\n",
    "import pandas as pd\n",
    "import scipy.optimize as opt"
   ]
  },
  {
   "cell_type": "markdown",
   "id": "7e29d971-e2a7-4c15-9f87-76953bc9cdb1",
   "metadata": {},
   "source": [
    "## Load data"
   ]
  },
  {
   "cell_type": "code",
   "execution_count": 2,
   "id": "98c32acf-bc26-45a1-8712-f0e9705a656b",
   "metadata": {},
   "outputs": [],
   "source": [
    "# Load DataFrame\n",
    "df = pd.read_csv('../data/ibl/test_1.csv', index_col=0);\n",
    "\n",
    "# Load data from DataFrame into numpy array\n",
    "data = df[['signed_contrast', 'choice']].to_numpy()"
   ]
  },
  {
   "cell_type": "markdown",
   "id": "a3a3323c-6918-434c-9f83-f6e09e2044c9",
   "metadata": {},
   "source": [
    "## Fit model"
   ]
  },
  {
   "cell_type": "code",
   "execution_count": 3,
   "id": "cc01c67d-8fc8-4537-8ff1-90e5dbae0497",
   "metadata": {},
   "outputs": [],
   "source": [
    "contrast = data[1:, 0]\n",
    "prev_choice = data[:-1, 1]\n",
    "choice = data[1:, 1]\n",
    "\n",
    "x = np.stack([np.ones_like(contrast), contrast, prev_choice], axis=1)\n",
    "y = choice"
   ]
  },
  {
   "cell_type": "code",
   "execution_count": 4,
   "id": "892edd72-e8ff-4004-a293-12eb75d4c6da",
   "metadata": {},
   "outputs": [
    {
     "data": {
      "text/plain": [
       "      fun: 332.40087463452267\n",
       " hess_inv: array([[ 0.00924325, -0.00747955, -0.00137029],\n",
       "       [-0.00747955,  0.10871482,  0.00365897],\n",
       "       [-0.00137029,  0.00365897,  0.00824883]])\n",
       "      jac: array([-0.0023613 , -0.0003891 , -0.00302124])\n",
       "  message: 'Optimization terminated successfully.'\n",
       "     nfev: 60\n",
       "      nit: 13\n",
       "     njev: 15\n",
       "   status: 0\n",
       "  success: True\n",
       "        x: array([-0.30736359,  3.61017874,  1.55170054])"
      ]
     },
     "execution_count": 4,
     "metadata": {},
     "output_type": "execute_result"
    }
   ],
   "source": [
    "def neg_LL(beta, x, y):\n",
    "    logit_pred = x @ beta\n",
    "    y_bin = (y + 1) / 2\n",
    "    return np.sum(np.logaddexp(0, logit_pred) - y_bin * logit_pred)\n",
    "\n",
    "beta0 = np.zeros(3)\n",
    "opt.minimize(neg_LL, beta0, args=(x, y), method='BFGS', options={'gtol':1e-2})"
   ]
  }
 ],
 "metadata": {
  "kernelspec": {
   "display_name": "Python 3 (ipykernel)",
   "language": "python",
   "name": "python3"
  },
  "language_info": {
   "codemirror_mode": {
    "name": "ipython",
    "version": 3
   },
   "file_extension": ".py",
   "mimetype": "text/x-python",
   "name": "python",
   "nbconvert_exporter": "python",
   "pygments_lexer": "ipython3",
   "version": "3.7.11"
  }
 },
 "nbformat": 4,
 "nbformat_minor": 5
}

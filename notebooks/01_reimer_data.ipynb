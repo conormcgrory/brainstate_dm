{
 "cells": [
  {
   "cell_type": "markdown",
   "id": "9ecdcd60-fd9a-4094-9b3f-3bc722ece6de",
   "metadata": {},
   "source": [
    "# Reimer Lab Data"
   ]
  },
  {
   "cell_type": "markdown",
   "id": "4eeb9efb-d5f6-40dd-a39a-3354863e7d6f",
   "metadata": {},
   "source": [
    "## Directory structure\n",
    "\n",
    "- Two folders: W2372 and W2402\n",
    "- Each folder has multiple `pupil` and `walk` CSV files, along with a `behavior.xls` file.\n",
    "\n",
    "```\n",
    "data_root\n",
    "├── W2372\n",
    "│   ├── W2372_28_df_pupil_preprocessed.csv\n",
    "│   ├── W2372_28_df_walk.csv\n",
    "│   ├── W2372_29_df_pupil_preprocessed.csv\n",
    "│   ├── W2372_29_df_walk.csv\n",
    "│   └── W2372_behavior.xlsx\n",
    "├── W2402\n",
    "│   ├── W2402_10_df_pupil_preprocessed.csv\n",
    "│   ├── W2402_10_df_walk.csv\n",
    "│   ├── W2402_9_df_pupil_preprocessed.csv\n",
    "│   ├── W2402_9_df_walk.csv\n",
    "│   └── W2402_behavior.xlsx\n",
    "└── Reimer AV Data Notes.docx\n",
    "```\n",
    "\n",
    "### Questions\n",
    "\n",
    "- **What do the file and folder names (`W2372`, `W2372_28_df`) mean?**\n",
    "- **Why are there multiple `pupil` and `walk` files for the same folder?**"
   ]
  },
  {
   "cell_type": "code",
   "execution_count": 1,
   "id": "866a274d-726d-438a-a321-beb54168a136",
   "metadata": {},
   "outputs": [],
   "source": [
    "import numpy as np\n",
    "import pandas as pd"
   ]
  },
  {
   "cell_type": "code",
   "execution_count": 4,
   "id": "efff2112-740c-442e-a2a3-cd3ddd7075eb",
   "metadata": {},
   "outputs": [],
   "source": [
    "pd.set_option('display.width', 100)"
   ]
  },
  {
   "cell_type": "markdown",
   "id": "7b2f7aa2-cdfe-40c6-bf78-6e2fc7f6bcb4",
   "metadata": {},
   "source": [
    "## Specify data filepaths"
   ]
  },
  {
   "cell_type": "code",
   "execution_count": 5,
   "id": "82e416a8-e888-432d-8890-8e85e0bd2799",
   "metadata": {},
   "outputs": [],
   "source": [
    "data_fpath = '/Users/cmcgrory/engel_lab/brainstate_dm/reimer_data'\n",
    "\n",
    "pupil_fpath = f'{data_fpath}/W2372/W2372_28_df_pupil_preprocessed.csv'\n",
    "walk_fpath = f'{data_fpath}/W2372/W2372_28_df_walk.csv'\n",
    "behavior_fpath = f'{data_fpath}/W2372/W2372_behavior.xlsx'"
   ]
  },
  {
   "cell_type": "markdown",
   "id": "5ad19f91-b212-416c-8b63-0483b7a312f6",
   "metadata": {},
   "source": [
    "## Pupil data"
   ]
  },
  {
   "cell_type": "markdown",
   "id": "8c4ed153-b0bc-4337-a938-dd34aa41f802",
   "metadata": {},
   "source": [
    "### Format\n",
    "\n",
    "| Column | Name         | Description |\n",
    "|:-------|:-------------|:------------|\n",
    "| 0      | None         | Row index   |\n",
    "| 1      | `time`       |             |\n",
    "| 2      | `pupil_x`    |             |\n",
    "| 3      | `pupil_y`    |             |\n",
    "| 4      | `blink`      |             |\n",
    "| 5      | `pupil_raw`  |             |\n",
    "| 6      | `pupil`      |             |\n",
    "| 7      | `eyelid_raw` |             |\n",
    "| 8      | `eyelid`     |             |"
   ]
  },
  {
   "cell_type": "code",
   "execution_count": 6,
   "id": "b37766a8-9907-4741-9797-0ed28dcb4c82",
   "metadata": {},
   "outputs": [
    {
     "name": "stdout",
     "output_type": "stream",
     "text": [
      "              time    pupil_x  pupil_y  blink  pupil_raw     pupil  eyelid_raw    eyelid\n",
      "0         1.152785  340.02615  278.751    0.0   6722.788  0.341241   38137.438  0.832852\n",
      "1         1.252785  340.02615  278.751    0.0   6722.788  0.341236   38137.438  0.832850\n",
      "2         1.352785  340.02615  278.751    0.0   6722.788  0.341219   38137.438  0.832839\n",
      "3         1.452785  340.02615  278.751    0.0   6722.788  0.341213   38137.438  0.832834\n",
      "4         1.552785  340.02615  278.751    0.0   6722.788  0.341253   38137.438  0.832857\n",
      "...            ...        ...      ...    ...        ...       ...         ...       ...\n",
      "36098  3610.952785  340.02615  278.751    0.0   6722.788  0.341176   38137.438  0.832945\n",
      "36099  3611.052785  340.02615  278.751    0.0   6722.788  0.341217   38137.438  0.832872\n",
      "36100  3611.152785  340.02615  278.751    0.0   6722.788  0.341248   38137.438  0.832824\n",
      "36101  3611.252785  340.02615  278.751    0.0   6722.788  0.341247   38137.438  0.832830\n",
      "36102  3611.352785  340.02615  278.751    0.0   6722.788  0.341235   38137.438  0.832849\n",
      "\n",
      "[36103 rows x 8 columns]\n"
     ]
    }
   ],
   "source": [
    "df_pupil = pd.read_csv(pupil_fpath, header=0, index_col=0)\n",
    "print(df_pupil)"
   ]
  },
  {
   "cell_type": "markdown",
   "id": "a71fbac1-b692-48a1-a460-65e768e27281",
   "metadata": {},
   "source": [
    "## Walk data"
   ]
  },
  {
   "cell_type": "markdown",
   "id": "301d1766-4a06-4b26-ba3d-62a425d58ee6",
   "metadata": {},
   "source": [
    "### Format\n",
    "\n",
    "| Column | Name       | Description |\n",
    "|:-------|:-----------|:------------|\n",
    "| 0      | None       | Row index   |\n",
    "| 1      | `time`     |             |\n",
    "| 2      | `velocity` |             |\n",
    "| 3      | `distance` |             |"
   ]
  },
  {
   "cell_type": "code",
   "execution_count": 7,
   "id": "1cef1485-d476-4546-9abc-908e91ad5fb1",
   "metadata": {},
   "outputs": [
    {
     "name": "stdout",
     "output_type": "stream",
     "text": [
      "         time  velocity  distance\n",
      "0         0.0  0.000798  0.000013\n",
      "1         0.1  0.013860  0.000719\n",
      "2         0.2  0.025089  0.001980\n",
      "3         0.3  0.022633  0.002033\n",
      "4         0.4  0.020176  0.002086\n",
      "...       ...       ...       ...\n",
      "36132  3613.2  0.000000  6.612637\n",
      "36133  3613.3  0.000000  6.612637\n",
      "36134  3613.4  0.000000  6.612637\n",
      "36135  3613.5  0.000000  6.612637\n",
      "36136  3613.6  0.000000  6.612637\n",
      "\n",
      "[36137 rows x 3 columns]\n"
     ]
    }
   ],
   "source": [
    "df_walk = pd.read_csv(walk_fpath, header=0, index_col=0)\n",
    "print(df_walk)"
   ]
  },
  {
   "cell_type": "markdown",
   "id": "452875da-cbcc-4112-8cf2-c90c28bb5d8c",
   "metadata": {},
   "source": [
    "## Read behavior data"
   ]
  },
  {
   "cell_type": "code",
   "execution_count": 8,
   "id": "685bfa94-5b20-4a1e-b0e8-1bb9af22f42c",
   "metadata": {},
   "outputs": [
    {
     "name": "stdout",
     "output_type": "stream",
     "text": [
      "        0   1    2   3   4   5      6      7      8      9      10     11     12        13     14  \\\n",
      "0    41735   0    1   3   0   1  False   True  False  False   True  False  False       NaN  W2372   \n",
      "1    41736   0    2   3   0   1  False   True  False  False   True  False  False       NaN  W2372   \n",
      "2    41737   0    3   3   4   0   True  False  False  False   True   True   True  0.205949  W2372   \n",
      "3    41738   0    4   3   4   0   True  False  False  False   True   True   True  0.031992  W2372   \n",
      "4    41739   0    5   2   4   0   True  False  False  False   True   True   True  0.228943  W2372   \n",
      "..     ...  ..  ...  ..  ..  ..    ...    ...    ...    ...    ...    ...    ...       ...    ...   \n",
      "923  42658   0  474   4   0   2  False  False   True  False  False   True  False  0.803799  W2372   \n",
      "924  42659   0  475   3   4   0   True  False  False  False   True   True   True  0.217946  W2372   \n",
      "925  42660   0  476   3   4   0   True  False  False  False   True   True   True  0.261935  W2372   \n",
      "926  42661   0  477   1   0   2  False  False   True  False  False   True  False  1.642589  W2372   \n",
      "927  42662   0  478   2   4   0   True  False  False  False   True   True   True  0.363909  W2372   \n",
      "\n",
      "     15        16  \n",
      "0    28     5.421  \n",
      "1    28    11.177  \n",
      "2    28    16.429  \n",
      "3    28    38.016  \n",
      "4    28    42.650  \n",
      "..   ..       ...  \n",
      "923  29  3559.106  \n",
      "924  29  3576.098  \n",
      "925  29  3579.370  \n",
      "926  29  3582.711  \n",
      "927  29  3598.502  \n",
      "\n",
      "[928 rows x 17 columns]\n"
     ]
    }
   ],
   "source": [
    "df_behavior = pd.read_excel(behavior_fpath, header=None)\n",
    "print(df_behavior)"
   ]
  },
  {
   "cell_type": "markdown",
   "id": "0e21a24e-77f9-4a5f-b837-cf049e5cb15a",
   "metadata": {},
   "source": [
    "### Questions\n",
    "\n",
    "- **What values are each of the columns storing?**\n",
    "- **What are the units?**"
   ]
  },
  {
   "cell_type": "code",
   "execution_count": null,
   "id": "79896425-d80d-4b04-88eb-94672a5b20cc",
   "metadata": {},
   "outputs": [],
   "source": []
  }
 ],
 "metadata": {
  "kernelspec": {
   "display_name": "Python 3",
   "language": "python",
   "name": "python3"
  },
  "language_info": {
   "codemirror_mode": {
    "name": "ipython",
    "version": 3
   },
   "file_extension": ".py",
   "mimetype": "text/x-python",
   "name": "python",
   "nbconvert_exporter": "python",
   "pygments_lexer": "ipython3",
   "version": "3.7.11"
  }
 },
 "nbformat": 4,
 "nbformat_minor": 5
}

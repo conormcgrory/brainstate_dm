{
 "cells": [
  {
   "cell_type": "markdown",
   "id": "b1a883d8-c512-4198-b636-eb2c930b83ae",
   "metadata": {},
   "source": [
    "# Reimer Lab Data"
   ]
  },
  {
   "cell_type": "markdown",
   "id": "d19d3d9e-2229-454b-a134-e1c864c08cfc",
   "metadata": {},
   "source": [
    "## TODO\n",
    "\n",
    "- [ ] Understand meaning of each behavior, pupil, and walk data field in context of experiment\n",
    "    - Need to re-read paper and look at `Reimer AV Data Notes.docx`\n",
    "    - Also will probably need to talk to Mario about units\n",
    "- [ ] Figure out how to connect behavior data with pupil and walk data\n",
    "    - This will probably involve the `time_start` field in the behavior data and the `time` field in the pupil and walk data\n",
    "- [ ] Build simple visualization of data"
   ]
  },
  {
   "cell_type": "markdown",
   "id": "4eeb9efb-d5f6-40dd-a39a-3354863e7d6f",
   "metadata": {},
   "source": [
    "## Directory structure\n",
    "\n",
    "- Main directory has `behavior.csv` file, which contains behavior data for all subjects and sessions\n",
    "- Pupil and walk data for subjects (in this case, `W2372` and `W2402`) is stored in separate folders\n",
    "- Each subject folder has `pupil_preprocessed.csv` and `walk.csv` files for each session, along with `behavior.xls` file storing behavior data for subject (this is redundant)\n",
    "- Main directory also has `Reimer AV Data Notes.docx` file, which explains structure of task\n",
    "\n",
    "```\n",
    "AV_Data_CSHL\n",
    "├── behavior.csv\n",
    "├── W2372\n",
    "│   ├── W2372_28_df_pupil_preprocessed.csv\n",
    "│   ├── W2372_28_df_walk.csv\n",
    "│   ├── W2372_29_df_pupil_preprocessed.csv\n",
    "│   ├── W2372_29_df_walk.csv\n",
    "│   └── W2372_behavior.xlsx\n",
    "├── W2402\n",
    "│   ├── W2402_10_df_pupil_preprocessed.csv\n",
    "│   ├── W2402_10_df_walk.csv\n",
    "│   ├── W2402_9_df_pupil_preprocessed.csv\n",
    "│   ├── W2402_9_df_walk.csv\n",
    "│   └── W2402_behavior.xlsx\n",
    "└── Reimer\\ AV\\ Data\\ Notes.docx\n",
    "```"
   ]
  },
  {
   "cell_type": "markdown",
   "id": "659b36b6-168f-4b71-b4fb-0c9d1cceec9f",
   "metadata": {},
   "source": [
    "## Imports and settings"
   ]
  },
  {
   "cell_type": "code",
   "execution_count": 1,
   "id": "866a274d-726d-438a-a321-beb54168a136",
   "metadata": {},
   "outputs": [],
   "source": [
    "import numpy as np\n",
    "import pandas as pd"
   ]
  },
  {
   "cell_type": "code",
   "execution_count": 2,
   "id": "efff2112-740c-442e-a2a3-cd3ddd7075eb",
   "metadata": {},
   "outputs": [],
   "source": [
    "pd.set_option('display.width', 100)"
   ]
  },
  {
   "cell_type": "markdown",
   "id": "7b2f7aa2-cdfe-40c6-bf78-6e2fc7f6bcb4",
   "metadata": {},
   "source": [
    "## Specify data to load"
   ]
  },
  {
   "cell_type": "code",
   "execution_count": 3,
   "id": "82e416a8-e888-432d-8890-8e85e0bd2799",
   "metadata": {},
   "outputs": [],
   "source": [
    "# Directory where data is stored\n",
    "data_fpath = '/Users/cmcgrory/engel_lab/brainstate_dm/AV_Data_CSHL'\n",
    "\n",
    "# Path to behavior file (contains data for all subjects/sessions)\n",
    "behavior_fpath = f'{data_fpath}/behavior.csv'\n",
    "\n",
    "# Subject and session to inspect\n",
    "subject_id = 'W2372'\n",
    "session_id = 28\n",
    "\n",
    "# Paths to pupil and walk data for subject/session\n",
    "prefix = f'{data_fpath}/{subject_id}/{subject_id}_{session_id}_df'\n",
    "pupil_fpath = f'{prefix}_pupil_preprocessed.csv'\n",
    "walk_fpath = f'{prefix}_walk.csv'"
   ]
  },
  {
   "cell_type": "markdown",
   "id": "13dcd2cf-45e3-484d-8fe5-213397299828",
   "metadata": {},
   "source": [
    "## Behavior data"
   ]
  },
  {
   "cell_type": "markdown",
   "id": "70fa2587-138f-4118-a618-2aa746eb2a22",
   "metadata": {},
   "source": [
    "### Questions\n",
    "\n",
    "- **What values are the `rt` and `time_trial` columns storing?**\n",
    "- **What are the units?**"
   ]
  },
  {
   "cell_type": "markdown",
   "id": "f61f0abe-4dfa-44f2-a4d3-622095e8fdfd",
   "metadata": {},
   "source": [
    "### Format\n",
    "\n",
    "| Column | Name           | Description |\n",
    "|:-------|:---------------|:------------|\n",
    "| 0      | None           | Row index   |\n",
    "| 1      | `block`        |             |\n",
    "| 2      | `trial`        |             |\n",
    "| 3      | `trial_type`   |             |\n",
    "| 4      | `reward`       |             |\n",
    "| 5      | `trial_result` |             |\n",
    "| 6      | `hit`          |             |\n",
    "| 7      | `miss`         |             |\n",
    "| 8      | `fa`           |             |\n",
    "| 9      | `cr`           |             |\n",
    "| 10     | `stimulus`     |             |\n",
    "| 11     | `response`     |             |\n",
    "| 12     | `correct`      |             |\n",
    "| 13     | `rt`           |             |\n",
    "| 14     | `subject_id`   |             |\n",
    "| 15     | `session_id`   |             |\n",
    "| 16     | `time_trial`   |             |"
   ]
  },
  {
   "cell_type": "code",
   "execution_count": 4,
   "id": "747829fb-cb46-4d79-b4b5-d4361bd3936c",
   "metadata": {},
   "outputs": [
    {
     "name": "stdout",
     "output_type": "stream",
     "text": [
      "       block  trial  trial_type  reward  trial_result    hit   miss     fa     cr  stimulus  \\\n",
      "41735      0      1         3.0       0             1  False   True  False  False      True   \n",
      "41736      0      2         3.0       0             1  False   True  False  False      True   \n",
      "41737      0      3         3.0       4             0   True  False  False  False      True   \n",
      "41738      0      4         3.0       4             0   True  False  False  False      True   \n",
      "41739      0      5         2.0       4             0   True  False  False  False      True   \n",
      "...      ...    ...         ...     ...           ...    ...    ...    ...    ...       ...   \n",
      "42180      0    446         4.0       0             2  False  False   True  False     False   \n",
      "42181      0    447         4.0       4             3  False  False  False   True     False   \n",
      "42182      0    448         4.0       4             3  False  False  False   True     False   \n",
      "42183      0    449         4.0       0             2  False  False   True  False     False   \n",
      "42184      0    450         1.0       4             3  False  False  False   True     False   \n",
      "\n",
      "       response  correct        rt subject_id  session_id  time_trial  \n",
      "41735     False    False       NaN      W2372          28       5.421  \n",
      "41736     False    False       NaN      W2372          28      11.177  \n",
      "41737      True     True  0.205949      W2372          28      16.429  \n",
      "41738      True     True  0.031992      W2372          28      38.016  \n",
      "41739      True     True  0.228943      W2372          28      42.650  \n",
      "...         ...      ...       ...        ...         ...         ...  \n",
      "42180      True    False  1.870532      W2372          28    3549.414  \n",
      "42181     False     True       NaN      W2372          28    3567.256  \n",
      "42182     False     True       NaN      W2372          28    3574.470  \n",
      "42183      True    False  0.399900      W2372          28    3581.353  \n",
      "42184     False     True       NaN      W2372          28    3596.502  \n",
      "\n",
      "[450 rows x 16 columns]\n"
     ]
    }
   ],
   "source": [
    "# Load behavior data for all subjects\n",
    "df_behavior_all = pd.read_csv(behavior_fpath, header=0, index_col=0)\n",
    "\n",
    "# Select data from specified subject\n",
    "idx_subject = df_behavior_all['subject_id'] == subject_id\n",
    "idx_session = df_behavior_all['session_id'] == session_id\n",
    "df_behavior = df_behavior_all[idx_subject & idx_session]\n",
    "print(df_behavior)"
   ]
  },
  {
   "cell_type": "markdown",
   "id": "5ad19f91-b212-416c-8b63-0483b7a312f6",
   "metadata": {},
   "source": [
    "## Pupil data"
   ]
  },
  {
   "cell_type": "markdown",
   "id": "fed94be9-47ea-4ae4-bd2f-03187a41a053",
   "metadata": {},
   "source": [
    "### Questions\n",
    "\n",
    "- **What values are each of the columns storing?**\n",
    "- **What are the units?**"
   ]
  },
  {
   "cell_type": "markdown",
   "id": "8c4ed153-b0bc-4337-a938-dd34aa41f802",
   "metadata": {},
   "source": [
    "### Format\n",
    "\n",
    "| Column | Name         | Description |\n",
    "|:-------|:-------------|:------------|\n",
    "| 0      | None         | Row index   |\n",
    "| 1      | `time`       |             |\n",
    "| 2      | `pupil_x`    |             |\n",
    "| 3      | `pupil_y`    |             |\n",
    "| 4      | `blink`      |             |\n",
    "| 5      | `pupil_raw`  |             |\n",
    "| 6      | `pupil`      |             |\n",
    "| 7      | `eyelid_raw` |             |\n",
    "| 8      | `eyelid`     |             |"
   ]
  },
  {
   "cell_type": "code",
   "execution_count": 5,
   "id": "b37766a8-9907-4741-9797-0ed28dcb4c82",
   "metadata": {},
   "outputs": [
    {
     "name": "stdout",
     "output_type": "stream",
     "text": [
      "              time    pupil_x  pupil_y  blink  pupil_raw     pupil  eyelid_raw    eyelid\n",
      "0         1.152785  340.02615  278.751    0.0   6722.788  0.341241   38137.438  0.832852\n",
      "1         1.252785  340.02615  278.751    0.0   6722.788  0.341236   38137.438  0.832850\n",
      "2         1.352785  340.02615  278.751    0.0   6722.788  0.341219   38137.438  0.832839\n",
      "3         1.452785  340.02615  278.751    0.0   6722.788  0.341213   38137.438  0.832834\n",
      "4         1.552785  340.02615  278.751    0.0   6722.788  0.341253   38137.438  0.832857\n",
      "...            ...        ...      ...    ...        ...       ...         ...       ...\n",
      "36098  3610.952785  340.02615  278.751    0.0   6722.788  0.341176   38137.438  0.832945\n",
      "36099  3611.052785  340.02615  278.751    0.0   6722.788  0.341217   38137.438  0.832872\n",
      "36100  3611.152785  340.02615  278.751    0.0   6722.788  0.341248   38137.438  0.832824\n",
      "36101  3611.252785  340.02615  278.751    0.0   6722.788  0.341247   38137.438  0.832830\n",
      "36102  3611.352785  340.02615  278.751    0.0   6722.788  0.341235   38137.438  0.832849\n",
      "\n",
      "[36103 rows x 8 columns]\n"
     ]
    }
   ],
   "source": [
    "df_pupil = pd.read_csv(pupil_fpath, header=0, index_col=0)\n",
    "print(df_pupil)"
   ]
  },
  {
   "cell_type": "markdown",
   "id": "a71fbac1-b692-48a1-a460-65e768e27281",
   "metadata": {},
   "source": [
    "## Walk data"
   ]
  },
  {
   "cell_type": "markdown",
   "id": "99c15cae-05a1-4738-9a1d-48a581fb9a29",
   "metadata": {},
   "source": [
    "### Questions\n",
    "\n",
    "- **What values are each of the columns storing?**\n",
    "- **What are the units?**"
   ]
  },
  {
   "cell_type": "markdown",
   "id": "301d1766-4a06-4b26-ba3d-62a425d58ee6",
   "metadata": {},
   "source": [
    "### Format\n",
    "\n",
    "| Column | Name       | Description |\n",
    "|:-------|:-----------|:------------|\n",
    "| 0      | None       | Row index   |\n",
    "| 1      | `time`     |             |\n",
    "| 2      | `velocity` |             |\n",
    "| 3      | `distance` |             |"
   ]
  },
  {
   "cell_type": "code",
   "execution_count": 6,
   "id": "1cef1485-d476-4546-9abc-908e91ad5fb1",
   "metadata": {},
   "outputs": [
    {
     "name": "stdout",
     "output_type": "stream",
     "text": [
      "         time  velocity  distance\n",
      "0         0.0  0.000798  0.000013\n",
      "1         0.1  0.013860  0.000719\n",
      "2         0.2  0.025089  0.001980\n",
      "3         0.3  0.022633  0.002033\n",
      "4         0.4  0.020176  0.002086\n",
      "...       ...       ...       ...\n",
      "36132  3613.2  0.000000  6.612637\n",
      "36133  3613.3  0.000000  6.612637\n",
      "36134  3613.4  0.000000  6.612637\n",
      "36135  3613.5  0.000000  6.612637\n",
      "36136  3613.6  0.000000  6.612637\n",
      "\n",
      "[36137 rows x 3 columns]\n"
     ]
    }
   ],
   "source": [
    "df_walk = pd.read_csv(walk_fpath, header=0, index_col=0)\n",
    "print(df_walk)"
   ]
  }
 ],
 "metadata": {
  "kernelspec": {
   "display_name": "Python 3",
   "language": "python",
   "name": "python3"
  },
  "language_info": {
   "codemirror_mode": {
    "name": "ipython",
    "version": 3
   },
   "file_extension": ".py",
   "mimetype": "text/x-python",
   "name": "python",
   "nbconvert_exporter": "python",
   "pygments_lexer": "ipython3",
   "version": "3.7.11"
  }
 },
 "nbformat": 4,
 "nbformat_minor": 5
}

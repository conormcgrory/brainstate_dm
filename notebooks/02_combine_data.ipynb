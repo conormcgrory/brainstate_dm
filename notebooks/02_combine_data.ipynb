{
 "cells": [
  {
   "cell_type": "markdown",
   "id": "c468491f-725e-4800-bb3c-9f340ac76778",
   "metadata": {},
   "source": [
    "# Combine behavior, pupil, and walk data"
   ]
  },
  {
   "cell_type": "markdown",
   "id": "114a72eb-4d40-419e-8e2e-7fe0a07d2cef",
   "metadata": {},
   "source": [
    "## TODO\n",
    "\n",
    "- Create DataFrame for each subject/session with `velocity` and `pupil` fields added to behavior data\n",
    "- First version should just use `velocity` and `pupil` value with time as close as possible to `time_trial`"
   ]
  },
  {
   "cell_type": "markdown",
   "id": "511b149e-d3de-459e-a784-23784f161729",
   "metadata": {},
   "source": [
    "## Setup"
   ]
  },
  {
   "cell_type": "code",
   "execution_count": 1,
   "id": "206cfc6e-512e-4542-8736-1285c01956b7",
   "metadata": {},
   "outputs": [],
   "source": [
    "import numpy as np\n",
    "import pandas as pd"
   ]
  },
  {
   "cell_type": "markdown",
   "id": "1484013b-269d-4f71-b864-e65ca523b48e",
   "metadata": {},
   "source": [
    "## Load data"
   ]
  },
  {
   "cell_type": "markdown",
   "id": "6c676306-50b5-4eb3-87e4-6c3475ff3e91",
   "metadata": {},
   "source": [
    "### Specify data to load"
   ]
  },
  {
   "cell_type": "code",
   "execution_count": 2,
   "id": "d072fe6a-6ecf-4aa7-902f-ad45a9fe7f67",
   "metadata": {},
   "outputs": [],
   "source": [
    "# Directory where data is stored\n",
    "data_fpath = '/Users/cmcgrory/engel_lab/brainstate_dm/AV_Data_CSHL'\n",
    "\n",
    "# Subject and session to inspect\n",
    "subject_id = 'W2372'\n",
    "session_id = 28\n",
    "\n",
    "# Path to behavior file (contains data for all subjects/sessions)\n",
    "behavior_fpath = f'{data_fpath}/behavior.csv'\n",
    "\n",
    "# Paths to pupil and walk data for subject/session\n",
    "prefix = f'{data_fpath}/{subject_id}/{subject_id}_{session_id}_df'\n",
    "pupil_fpath = f'{prefix}_pupil_preprocessed.csv'\n",
    "walk_fpath = f'{prefix}_walk.csv'"
   ]
  },
  {
   "cell_type": "markdown",
   "id": "d9f26f91-6756-4f6d-b604-5b1032c534b4",
   "metadata": {},
   "source": [
    "### Load behavior data"
   ]
  },
  {
   "cell_type": "code",
   "execution_count": 3,
   "id": "146f827c-ec9c-4b5f-838c-4a6f42c26096",
   "metadata": {},
   "outputs": [],
   "source": [
    "# Load behavior data for all subjects\n",
    "df_behavior_all = pd.read_csv(behavior_fpath, header=0, index_col=0)\n",
    "\n",
    "# Select data from specified subject\n",
    "df_behavior = df_behavior_all.query('subject_id == @subject_id and session_id == @session_id')"
   ]
  },
  {
   "cell_type": "markdown",
   "id": "9a7a6583-664b-4212-8b57-f034b9aced4e",
   "metadata": {},
   "source": [
    "### Load pupil data"
   ]
  },
  {
   "cell_type": "code",
   "execution_count": 4,
   "id": "b60ce9a5-1626-4e6f-af76-1c8eb6416a70",
   "metadata": {},
   "outputs": [],
   "source": [
    "df_pupil = pd.read_csv(pupil_fpath, header=0, index_col=0)"
   ]
  },
  {
   "cell_type": "markdown",
   "id": "8132da1b-da67-4bab-985d-40f40f9b3581",
   "metadata": {},
   "source": [
    "### Load walk data"
   ]
  },
  {
   "cell_type": "code",
   "execution_count": 5,
   "id": "58834f97-b683-4467-9011-5f10f411b784",
   "metadata": {},
   "outputs": [],
   "source": [
    "df_walk = pd.read_csv(walk_fpath, header=0, index_col=0)"
   ]
  },
  {
   "cell_type": "code",
   "execution_count": null,
   "id": "4abf0046-e54d-4aff-8501-d69bc0dd2cb3",
   "metadata": {},
   "outputs": [],
   "source": []
  }
 ],
 "metadata": {
  "kernelspec": {
   "display_name": "Python 3 (ipykernel)",
   "language": "python",
   "name": "python3"
  },
  "language_info": {
   "codemirror_mode": {
    "name": "ipython",
    "version": 3
   },
   "file_extension": ".py",
   "mimetype": "text/x-python",
   "name": "python",
   "nbconvert_exporter": "python",
   "pygments_lexer": "ipython3",
   "version": "3.7.11"
  }
 },
 "nbformat": 4,
 "nbformat_minor": 5
}

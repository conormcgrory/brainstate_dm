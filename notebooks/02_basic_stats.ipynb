{
 "cells": [
  {
   "cell_type": "markdown",
   "id": "c8420ed4-acd7-4f4f-82c9-edc6877d2f9a",
   "metadata": {},
   "source": [
    "# Basic statistics"
   ]
  },
  {
   "cell_type": "markdown",
   "id": "4dd2998b-a5c7-4ab8-b81f-682912f950f2",
   "metadata": {},
   "source": [
    "## Notes\n",
    "\n",
    "Pandas cheat sheet: https://pandas.pydata.org/Pandas_Cheat_Sheet.pdf"
   ]
  },
  {
   "cell_type": "markdown",
   "id": "2d65049b-38bb-4ca9-9bee-534545ba4bfd",
   "metadata": {
    "tags": []
   },
   "source": [
    "## 1. Setup"
   ]
  },
  {
   "cell_type": "code",
   "execution_count": 1,
   "id": "4763554f-2613-48df-bb85-b7f1bcdcf0c3",
   "metadata": {},
   "outputs": [],
   "source": [
    "import numpy as np\n",
    "import pandas as pd\n",
    "import matplotlib.pyplot as plt"
   ]
  },
  {
   "cell_type": "markdown",
   "id": "fe1d30b1-4a46-4a86-91b9-d31a8f47c734",
   "metadata": {
    "tags": []
   },
   "source": [
    "## 2. Load behavior data"
   ]
  },
  {
   "cell_type": "code",
   "execution_count": 2,
   "id": "e11cf113-2030-4313-a09f-0189bbc6bb17",
   "metadata": {},
   "outputs": [],
   "source": [
    "# Directory where data is stored\n",
    "data_fpath = '/Users/cmcgrory/engel_lab/brainstate_dm/AV_Data_CSHL'\n",
    "\n",
    "# Path to behavior file (contains data for all subjects/sessions)\n",
    "behavior_fpath = f'{data_fpath}/behavior.csv'\n",
    "\n",
    "# Load behavior data for all subjects\n",
    "df = pd.read_csv(behavior_fpath, header=0, index_col=0)"
   ]
  },
  {
   "cell_type": "code",
   "execution_count": 3,
   "id": "e4c01ce5-1121-4550-aecf-a02f65118076",
   "metadata": {},
   "outputs": [],
   "source": [
    "# Make sure all data comes from auditory blocks ('block' = 0)\n",
    "df = df[df.block == 0]\n",
    "\n",
    "# Add columns specifying audio and visual stimulus presence\n",
    "df['s_audio'] = df.trial_type.map({1.0: False, 2.0: True, 3.0: True, 4.0: False})\n",
    "df['s_visual'] = df.trial_type.map({1.0: True, 2.0: False, 3.0: True, 4.0: False})"
   ]
  },
  {
   "cell_type": "markdown",
   "id": "b3317dfe-1791-4fb5-8217-d0160eb569e5",
   "metadata": {},
   "source": [
    "## 3. Response probabilities"
   ]
  },
  {
   "cell_type": "markdown",
   "id": "3870fcbf-8bc0-4445-9275-5a885888f500",
   "metadata": {
    "tags": []
   },
   "source": [
    "### 3.1 For all subjects, sessions\n",
    "\n",
    "**TODO: Make sure I'm not screwing this calculation up! Average across all subjects and sessions is very different from what I'm seeing with specific sessions**"
   ]
  },
  {
   "cell_type": "code",
   "execution_count": 4,
   "id": "41656a81-d6cd-4c6d-848d-d4cf8500634a",
   "metadata": {},
   "outputs": [
    {
     "data": {
      "text/html": [
       "<div>\n",
       "<style scoped>\n",
       "    .dataframe tbody tr th:only-of-type {\n",
       "        vertical-align: middle;\n",
       "    }\n",
       "\n",
       "    .dataframe tbody tr th {\n",
       "        vertical-align: top;\n",
       "    }\n",
       "\n",
       "    .dataframe thead th {\n",
       "        text-align: right;\n",
       "    }\n",
       "</style>\n",
       "<table border=\"1\" class=\"dataframe\">\n",
       "  <thead>\n",
       "    <tr style=\"text-align: right;\">\n",
       "      <th></th>\n",
       "      <th></th>\n",
       "      <th>n_trials</th>\n",
       "      <th>n_responses</th>\n",
       "      <th>p_response</th>\n",
       "    </tr>\n",
       "    <tr>\n",
       "      <th>s_audio</th>\n",
       "      <th>s_visual</th>\n",
       "      <th></th>\n",
       "      <th></th>\n",
       "      <th></th>\n",
       "    </tr>\n",
       "  </thead>\n",
       "  <tbody>\n",
       "    <tr>\n",
       "      <th rowspan=\"2\" valign=\"top\">False</th>\n",
       "      <th>False</th>\n",
       "      <td>9668</td>\n",
       "      <td>2202</td>\n",
       "      <td>0.227762</td>\n",
       "    </tr>\n",
       "    <tr>\n",
       "      <th>True</th>\n",
       "      <td>9529</td>\n",
       "      <td>2172</td>\n",
       "      <td>0.227936</td>\n",
       "    </tr>\n",
       "    <tr>\n",
       "      <th rowspan=\"2\" valign=\"top\">True</th>\n",
       "      <th>False</th>\n",
       "      <td>10853</td>\n",
       "      <td>3717</td>\n",
       "      <td>0.342486</td>\n",
       "    </tr>\n",
       "    <tr>\n",
       "      <th>True</th>\n",
       "      <td>10829</td>\n",
       "      <td>3726</td>\n",
       "      <td>0.344076</td>\n",
       "    </tr>\n",
       "  </tbody>\n",
       "</table>\n",
       "</div>"
      ],
      "text/plain": [
       "                  n_trials  n_responses  p_response\n",
       "s_audio s_visual                                   \n",
       "False   False         9668         2202    0.227762\n",
       "        True          9529         2172    0.227936\n",
       "True    False        10853         3717    0.342486\n",
       "        True         10829         3726    0.344076"
      ]
     },
     "execution_count": 4,
     "metadata": {},
     "output_type": "execute_result"
    }
   ],
   "source": [
    "(df.groupby(['s_audio', 's_visual']).agg(\n",
    "    n_trials=('response', 'count'), \n",
    "    n_responses=('response', 'sum'), \n",
    "    p_response=('response', 'mean')\n",
    "))"
   ]
  },
  {
   "cell_type": "code",
   "execution_count": 5,
   "id": "066d0cac-6bee-40c9-996f-d83910f9ddd0",
   "metadata": {
    "tags": []
   },
   "outputs": [
    {
     "data": {
      "text/html": [
       "<div>\n",
       "<style scoped>\n",
       "    .dataframe tbody tr th:only-of-type {\n",
       "        vertical-align: middle;\n",
       "    }\n",
       "\n",
       "    .dataframe tbody tr th {\n",
       "        vertical-align: top;\n",
       "    }\n",
       "\n",
       "    .dataframe thead th {\n",
       "        text-align: right;\n",
       "    }\n",
       "</style>\n",
       "<table border=\"1\" class=\"dataframe\">\n",
       "  <thead>\n",
       "    <tr style=\"text-align: right;\">\n",
       "      <th></th>\n",
       "      <th>n_trials</th>\n",
       "      <th>n_responses</th>\n",
       "      <th>p_response</th>\n",
       "    </tr>\n",
       "    <tr>\n",
       "      <th>s_audio</th>\n",
       "      <th></th>\n",
       "      <th></th>\n",
       "      <th></th>\n",
       "    </tr>\n",
       "  </thead>\n",
       "  <tbody>\n",
       "    <tr>\n",
       "      <th>False</th>\n",
       "      <td>19197</td>\n",
       "      <td>4374</td>\n",
       "      <td>0.227848</td>\n",
       "    </tr>\n",
       "    <tr>\n",
       "      <th>True</th>\n",
       "      <td>21682</td>\n",
       "      <td>7443</td>\n",
       "      <td>0.343280</td>\n",
       "    </tr>\n",
       "  </tbody>\n",
       "</table>\n",
       "</div>"
      ],
      "text/plain": [
       "         n_trials  n_responses  p_response\n",
       "s_audio                                   \n",
       "False       19197         4374    0.227848\n",
       "True        21682         7443    0.343280"
      ]
     },
     "execution_count": 5,
     "metadata": {},
     "output_type": "execute_result"
    }
   ],
   "source": [
    "(df.groupby('s_audio').agg(\n",
    "    n_trials=('response', 'count'), \n",
    "    n_responses=('response', 'sum'), \n",
    "    p_response=('response', 'mean')\n",
    "))"
   ]
  },
  {
   "cell_type": "markdown",
   "id": "60bd00b7-4ea0-414e-9721-60c5cb145148",
   "metadata": {},
   "source": [
    "One interesting thing to notice here is that, in the audio block trials, **the average response rate is almost completely determined by the audio stimulus** -- the presence of the visual stimulus has almost no effect. Also, on average, **the mice are very biased against responding**: the response rate when the stimulus is present is only 34%, and the rate when the stimulus is absent is 23%. "
   ]
  },
  {
   "cell_type": "markdown",
   "id": "ea9b49d2-a8db-4cc5-8b14-dbcfe2191223",
   "metadata": {
    "tags": []
   },
   "source": [
    "### 3.2 For specific subjects, sessions"
   ]
  },
  {
   "cell_type": "markdown",
   "id": "e2dc063e-eb00-40af-9e07-97b640b2d2b6",
   "metadata": {},
   "source": [
    "#### W2372, S28"
   ]
  },
  {
   "cell_type": "code",
   "execution_count": 6,
   "id": "1d85bc4b-ca97-4764-aeaa-730a68962d42",
   "metadata": {},
   "outputs": [],
   "source": [
    "df_1 = df.query('subject_id == \"W2372\" and session_id == 28')"
   ]
  },
  {
   "cell_type": "code",
   "execution_count": 7,
   "id": "6e2dcd5c-a1ee-4ab6-871f-e973893ec566",
   "metadata": {},
   "outputs": [
    {
     "data": {
      "text/html": [
       "<div>\n",
       "<style scoped>\n",
       "    .dataframe tbody tr th:only-of-type {\n",
       "        vertical-align: middle;\n",
       "    }\n",
       "\n",
       "    .dataframe tbody tr th {\n",
       "        vertical-align: top;\n",
       "    }\n",
       "\n",
       "    .dataframe thead th {\n",
       "        text-align: right;\n",
       "    }\n",
       "</style>\n",
       "<table border=\"1\" class=\"dataframe\">\n",
       "  <thead>\n",
       "    <tr style=\"text-align: right;\">\n",
       "      <th></th>\n",
       "      <th></th>\n",
       "      <th>n_trials</th>\n",
       "      <th>n_responses</th>\n",
       "      <th>p_response</th>\n",
       "    </tr>\n",
       "    <tr>\n",
       "      <th>s_audio</th>\n",
       "      <th>s_visual</th>\n",
       "      <th></th>\n",
       "      <th></th>\n",
       "      <th></th>\n",
       "    </tr>\n",
       "  </thead>\n",
       "  <tbody>\n",
       "    <tr>\n",
       "      <th rowspan=\"2\" valign=\"top\">False</th>\n",
       "      <th>False</th>\n",
       "      <td>135</td>\n",
       "      <td>80</td>\n",
       "      <td>0.592593</td>\n",
       "    </tr>\n",
       "    <tr>\n",
       "      <th>True</th>\n",
       "      <td>86</td>\n",
       "      <td>60</td>\n",
       "      <td>0.697674</td>\n",
       "    </tr>\n",
       "    <tr>\n",
       "      <th rowspan=\"2\" valign=\"top\">True</th>\n",
       "      <th>False</th>\n",
       "      <td>103</td>\n",
       "      <td>101</td>\n",
       "      <td>0.980583</td>\n",
       "    </tr>\n",
       "    <tr>\n",
       "      <th>True</th>\n",
       "      <td>126</td>\n",
       "      <td>119</td>\n",
       "      <td>0.944444</td>\n",
       "    </tr>\n",
       "  </tbody>\n",
       "</table>\n",
       "</div>"
      ],
      "text/plain": [
       "                  n_trials  n_responses  p_response\n",
       "s_audio s_visual                                   \n",
       "False   False          135           80    0.592593\n",
       "        True            86           60    0.697674\n",
       "True    False          103          101    0.980583\n",
       "        True           126          119    0.944444"
      ]
     },
     "execution_count": 7,
     "metadata": {},
     "output_type": "execute_result"
    }
   ],
   "source": [
    "(df_1.groupby(['s_audio', 's_visual']).agg(\n",
    "    n_trials=('response', 'count'), \n",
    "    n_responses=('response', 'sum'), \n",
    "    p_response=('response', 'mean')\n",
    "))"
   ]
  },
  {
   "cell_type": "code",
   "execution_count": 8,
   "id": "87c53ad5-d833-482a-be86-17b72b7e2a82",
   "metadata": {},
   "outputs": [
    {
     "data": {
      "text/html": [
       "<div>\n",
       "<style scoped>\n",
       "    .dataframe tbody tr th:only-of-type {\n",
       "        vertical-align: middle;\n",
       "    }\n",
       "\n",
       "    .dataframe tbody tr th {\n",
       "        vertical-align: top;\n",
       "    }\n",
       "\n",
       "    .dataframe thead th {\n",
       "        text-align: right;\n",
       "    }\n",
       "</style>\n",
       "<table border=\"1\" class=\"dataframe\">\n",
       "  <thead>\n",
       "    <tr style=\"text-align: right;\">\n",
       "      <th></th>\n",
       "      <th>n_trials</th>\n",
       "      <th>n_responses</th>\n",
       "      <th>p_response</th>\n",
       "    </tr>\n",
       "    <tr>\n",
       "      <th>s_audio</th>\n",
       "      <th></th>\n",
       "      <th></th>\n",
       "      <th></th>\n",
       "    </tr>\n",
       "  </thead>\n",
       "  <tbody>\n",
       "    <tr>\n",
       "      <th>False</th>\n",
       "      <td>221</td>\n",
       "      <td>140</td>\n",
       "      <td>0.633484</td>\n",
       "    </tr>\n",
       "    <tr>\n",
       "      <th>True</th>\n",
       "      <td>229</td>\n",
       "      <td>220</td>\n",
       "      <td>0.960699</td>\n",
       "    </tr>\n",
       "  </tbody>\n",
       "</table>\n",
       "</div>"
      ],
      "text/plain": [
       "         n_trials  n_responses  p_response\n",
       "s_audio                                   \n",
       "False         221          140    0.633484\n",
       "True          229          220    0.960699"
      ]
     },
     "execution_count": 8,
     "metadata": {},
     "output_type": "execute_result"
    }
   ],
   "source": [
    "(df_1.groupby('s_audio').agg(\n",
    "    n_trials=('response', 'count'), \n",
    "    n_responses=('response', 'sum'), \n",
    "    p_response=('response', 'mean')\n",
    "))"
   ]
  },
  {
   "cell_type": "markdown",
   "id": "1b8de3d5-a5e1-4232-a113-2ae00e16b7e9",
   "metadata": {},
   "source": [
    "#### W2372, S29"
   ]
  },
  {
   "cell_type": "code",
   "execution_count": 9,
   "id": "744f9add-9b56-4502-9acc-561c80408291",
   "metadata": {},
   "outputs": [],
   "source": [
    "df_2 = df.query('subject_id == \"W2372\" and session_id == 29')"
   ]
  },
  {
   "cell_type": "code",
   "execution_count": 10,
   "id": "d6f3368f-187d-452e-ae95-fcafc8d0e0f4",
   "metadata": {},
   "outputs": [
    {
     "data": {
      "text/html": [
       "<div>\n",
       "<style scoped>\n",
       "    .dataframe tbody tr th:only-of-type {\n",
       "        vertical-align: middle;\n",
       "    }\n",
       "\n",
       "    .dataframe tbody tr th {\n",
       "        vertical-align: top;\n",
       "    }\n",
       "\n",
       "    .dataframe thead th {\n",
       "        text-align: right;\n",
       "    }\n",
       "</style>\n",
       "<table border=\"1\" class=\"dataframe\">\n",
       "  <thead>\n",
       "    <tr style=\"text-align: right;\">\n",
       "      <th></th>\n",
       "      <th></th>\n",
       "      <th>n_trials</th>\n",
       "      <th>n_responses</th>\n",
       "      <th>p_response</th>\n",
       "    </tr>\n",
       "    <tr>\n",
       "      <th>s_audio</th>\n",
       "      <th>s_visual</th>\n",
       "      <th></th>\n",
       "      <th></th>\n",
       "      <th></th>\n",
       "    </tr>\n",
       "  </thead>\n",
       "  <tbody>\n",
       "    <tr>\n",
       "      <th rowspan=\"2\" valign=\"top\">False</th>\n",
       "      <th>False</th>\n",
       "      <td>91</td>\n",
       "      <td>49</td>\n",
       "      <td>0.538462</td>\n",
       "    </tr>\n",
       "    <tr>\n",
       "      <th>True</th>\n",
       "      <td>126</td>\n",
       "      <td>77</td>\n",
       "      <td>0.611111</td>\n",
       "    </tr>\n",
       "    <tr>\n",
       "      <th rowspan=\"2\" valign=\"top\">True</th>\n",
       "      <th>False</th>\n",
       "      <td>128</td>\n",
       "      <td>126</td>\n",
       "      <td>0.984375</td>\n",
       "    </tr>\n",
       "    <tr>\n",
       "      <th>True</th>\n",
       "      <td>133</td>\n",
       "      <td>129</td>\n",
       "      <td>0.969925</td>\n",
       "    </tr>\n",
       "  </tbody>\n",
       "</table>\n",
       "</div>"
      ],
      "text/plain": [
       "                  n_trials  n_responses  p_response\n",
       "s_audio s_visual                                   \n",
       "False   False           91           49    0.538462\n",
       "        True           126           77    0.611111\n",
       "True    False          128          126    0.984375\n",
       "        True           133          129    0.969925"
      ]
     },
     "execution_count": 10,
     "metadata": {},
     "output_type": "execute_result"
    }
   ],
   "source": [
    "(df_2.groupby(['s_audio', 's_visual']).agg(\n",
    "    n_trials=('response', 'count'), \n",
    "    n_responses=('response', 'sum'), \n",
    "    p_response=('response', 'mean')\n",
    "))"
   ]
  },
  {
   "cell_type": "code",
   "execution_count": 11,
   "id": "e5f10b64-8aa9-4889-9b59-aa9fc462e7f2",
   "metadata": {},
   "outputs": [
    {
     "data": {
      "text/html": [
       "<div>\n",
       "<style scoped>\n",
       "    .dataframe tbody tr th:only-of-type {\n",
       "        vertical-align: middle;\n",
       "    }\n",
       "\n",
       "    .dataframe tbody tr th {\n",
       "        vertical-align: top;\n",
       "    }\n",
       "\n",
       "    .dataframe thead th {\n",
       "        text-align: right;\n",
       "    }\n",
       "</style>\n",
       "<table border=\"1\" class=\"dataframe\">\n",
       "  <thead>\n",
       "    <tr style=\"text-align: right;\">\n",
       "      <th></th>\n",
       "      <th>n_trials</th>\n",
       "      <th>n_responses</th>\n",
       "      <th>p_response</th>\n",
       "    </tr>\n",
       "    <tr>\n",
       "      <th>s_audio</th>\n",
       "      <th></th>\n",
       "      <th></th>\n",
       "      <th></th>\n",
       "    </tr>\n",
       "  </thead>\n",
       "  <tbody>\n",
       "    <tr>\n",
       "      <th>False</th>\n",
       "      <td>217</td>\n",
       "      <td>126</td>\n",
       "      <td>0.580645</td>\n",
       "    </tr>\n",
       "    <tr>\n",
       "      <th>True</th>\n",
       "      <td>261</td>\n",
       "      <td>255</td>\n",
       "      <td>0.977011</td>\n",
       "    </tr>\n",
       "  </tbody>\n",
       "</table>\n",
       "</div>"
      ],
      "text/plain": [
       "         n_trials  n_responses  p_response\n",
       "s_audio                                   \n",
       "False         217          126    0.580645\n",
       "True          261          255    0.977011"
      ]
     },
     "execution_count": 11,
     "metadata": {},
     "output_type": "execute_result"
    }
   ],
   "source": [
    "(df_2.groupby('s_audio').agg(\n",
    "    n_trials=('response', 'count'), \n",
    "    n_responses=('response', 'sum'), \n",
    "    p_response=('response', 'mean')\n",
    "))"
   ]
  },
  {
   "cell_type": "markdown",
   "id": "696a33d5-4682-462f-870b-5258a13db379",
   "metadata": {},
   "source": [
    "#### W2402, S09"
   ]
  },
  {
   "cell_type": "code",
   "execution_count": 12,
   "id": "6c14fcd2-d48f-45b3-b025-9e69b2db7c51",
   "metadata": {},
   "outputs": [],
   "source": [
    "df_3 = df.query('subject_id == \"W2402\" and session_id == 9')"
   ]
  },
  {
   "cell_type": "code",
   "execution_count": 13,
   "id": "5bc1d2ff-aae3-4f06-8825-50ed89dec1a9",
   "metadata": {},
   "outputs": [
    {
     "data": {
      "text/html": [
       "<div>\n",
       "<style scoped>\n",
       "    .dataframe tbody tr th:only-of-type {\n",
       "        vertical-align: middle;\n",
       "    }\n",
       "\n",
       "    .dataframe tbody tr th {\n",
       "        vertical-align: top;\n",
       "    }\n",
       "\n",
       "    .dataframe thead th {\n",
       "        text-align: right;\n",
       "    }\n",
       "</style>\n",
       "<table border=\"1\" class=\"dataframe\">\n",
       "  <thead>\n",
       "    <tr style=\"text-align: right;\">\n",
       "      <th></th>\n",
       "      <th></th>\n",
       "      <th>n_trials</th>\n",
       "      <th>n_responses</th>\n",
       "      <th>p_response</th>\n",
       "    </tr>\n",
       "    <tr>\n",
       "      <th>s_audio</th>\n",
       "      <th>s_visual</th>\n",
       "      <th></th>\n",
       "      <th></th>\n",
       "      <th></th>\n",
       "    </tr>\n",
       "  </thead>\n",
       "  <tbody>\n",
       "    <tr>\n",
       "      <th rowspan=\"2\" valign=\"top\">False</th>\n",
       "      <th>False</th>\n",
       "      <td>92</td>\n",
       "      <td>56</td>\n",
       "      <td>0.608696</td>\n",
       "    </tr>\n",
       "    <tr>\n",
       "      <th>True</th>\n",
       "      <td>91</td>\n",
       "      <td>47</td>\n",
       "      <td>0.516484</td>\n",
       "    </tr>\n",
       "    <tr>\n",
       "      <th rowspan=\"2\" valign=\"top\">True</th>\n",
       "      <th>False</th>\n",
       "      <td>106</td>\n",
       "      <td>90</td>\n",
       "      <td>0.849057</td>\n",
       "    </tr>\n",
       "    <tr>\n",
       "      <th>True</th>\n",
       "      <td>96</td>\n",
       "      <td>83</td>\n",
       "      <td>0.864583</td>\n",
       "    </tr>\n",
       "  </tbody>\n",
       "</table>\n",
       "</div>"
      ],
      "text/plain": [
       "                  n_trials  n_responses  p_response\n",
       "s_audio s_visual                                   \n",
       "False   False           92           56    0.608696\n",
       "        True            91           47    0.516484\n",
       "True    False          106           90    0.849057\n",
       "        True            96           83    0.864583"
      ]
     },
     "execution_count": 13,
     "metadata": {},
     "output_type": "execute_result"
    }
   ],
   "source": [
    "(df_3.groupby(['s_audio', 's_visual']).agg(\n",
    "    n_trials=('response', 'count'), \n",
    "    n_responses=('response', 'sum'), \n",
    "    p_response=('response', 'mean')\n",
    "))"
   ]
  },
  {
   "cell_type": "code",
   "execution_count": 14,
   "id": "0e88df5b-9e49-4b07-91e5-6f280ebabc1e",
   "metadata": {},
   "outputs": [
    {
     "data": {
      "text/html": [
       "<div>\n",
       "<style scoped>\n",
       "    .dataframe tbody tr th:only-of-type {\n",
       "        vertical-align: middle;\n",
       "    }\n",
       "\n",
       "    .dataframe tbody tr th {\n",
       "        vertical-align: top;\n",
       "    }\n",
       "\n",
       "    .dataframe thead th {\n",
       "        text-align: right;\n",
       "    }\n",
       "</style>\n",
       "<table border=\"1\" class=\"dataframe\">\n",
       "  <thead>\n",
       "    <tr style=\"text-align: right;\">\n",
       "      <th></th>\n",
       "      <th>n_trials</th>\n",
       "      <th>n_responses</th>\n",
       "      <th>p_response</th>\n",
       "    </tr>\n",
       "    <tr>\n",
       "      <th>s_audio</th>\n",
       "      <th></th>\n",
       "      <th></th>\n",
       "      <th></th>\n",
       "    </tr>\n",
       "  </thead>\n",
       "  <tbody>\n",
       "    <tr>\n",
       "      <th>False</th>\n",
       "      <td>183</td>\n",
       "      <td>103</td>\n",
       "      <td>0.562842</td>\n",
       "    </tr>\n",
       "    <tr>\n",
       "      <th>True</th>\n",
       "      <td>202</td>\n",
       "      <td>173</td>\n",
       "      <td>0.856436</td>\n",
       "    </tr>\n",
       "  </tbody>\n",
       "</table>\n",
       "</div>"
      ],
      "text/plain": [
       "         n_trials  n_responses  p_response\n",
       "s_audio                                   \n",
       "False         183          103    0.562842\n",
       "True          202          173    0.856436"
      ]
     },
     "execution_count": 14,
     "metadata": {},
     "output_type": "execute_result"
    }
   ],
   "source": [
    "(df_3.groupby('s_audio').agg(\n",
    "    n_trials=('response', 'count'), \n",
    "    n_responses=('response', 'sum'), \n",
    "    p_response=('response', 'mean')\n",
    "))"
   ]
  },
  {
   "cell_type": "markdown",
   "id": "4f0b04f4-44e4-4d4c-bcf8-40a4a63918d2",
   "metadata": {},
   "source": [
    "#### W2402, S10"
   ]
  },
  {
   "cell_type": "code",
   "execution_count": 15,
   "id": "67ff99d8-3054-4cc5-91c4-296c64590971",
   "metadata": {},
   "outputs": [],
   "source": [
    "df_4 = df.query('subject_id == \"W2402\" and session_id == 10')"
   ]
  },
  {
   "cell_type": "code",
   "execution_count": 16,
   "id": "3a5b67e2-8f06-46e3-a428-20547f1f7297",
   "metadata": {},
   "outputs": [
    {
     "data": {
      "text/html": [
       "<div>\n",
       "<style scoped>\n",
       "    .dataframe tbody tr th:only-of-type {\n",
       "        vertical-align: middle;\n",
       "    }\n",
       "\n",
       "    .dataframe tbody tr th {\n",
       "        vertical-align: top;\n",
       "    }\n",
       "\n",
       "    .dataframe thead th {\n",
       "        text-align: right;\n",
       "    }\n",
       "</style>\n",
       "<table border=\"1\" class=\"dataframe\">\n",
       "  <thead>\n",
       "    <tr style=\"text-align: right;\">\n",
       "      <th></th>\n",
       "      <th></th>\n",
       "      <th>n_trials</th>\n",
       "      <th>n_responses</th>\n",
       "      <th>p_response</th>\n",
       "    </tr>\n",
       "    <tr>\n",
       "      <th>s_audio</th>\n",
       "      <th>s_visual</th>\n",
       "      <th></th>\n",
       "      <th></th>\n",
       "      <th></th>\n",
       "    </tr>\n",
       "  </thead>\n",
       "  <tbody>\n",
       "    <tr>\n",
       "      <th rowspan=\"2\" valign=\"top\">False</th>\n",
       "      <th>False</th>\n",
       "      <td>99</td>\n",
       "      <td>44</td>\n",
       "      <td>0.444444</td>\n",
       "    </tr>\n",
       "    <tr>\n",
       "      <th>True</th>\n",
       "      <td>91</td>\n",
       "      <td>42</td>\n",
       "      <td>0.461538</td>\n",
       "    </tr>\n",
       "    <tr>\n",
       "      <th rowspan=\"2\" valign=\"top\">True</th>\n",
       "      <th>False</th>\n",
       "      <td>115</td>\n",
       "      <td>107</td>\n",
       "      <td>0.930435</td>\n",
       "    </tr>\n",
       "    <tr>\n",
       "      <th>True</th>\n",
       "      <td>100</td>\n",
       "      <td>95</td>\n",
       "      <td>0.950000</td>\n",
       "    </tr>\n",
       "  </tbody>\n",
       "</table>\n",
       "</div>"
      ],
      "text/plain": [
       "                  n_trials  n_responses  p_response\n",
       "s_audio s_visual                                   \n",
       "False   False           99           44    0.444444\n",
       "        True            91           42    0.461538\n",
       "True    False          115          107    0.930435\n",
       "        True           100           95    0.950000"
      ]
     },
     "execution_count": 16,
     "metadata": {},
     "output_type": "execute_result"
    }
   ],
   "source": [
    "(df_4.groupby(['s_audio', 's_visual']).agg(\n",
    "    n_trials=('response', 'count'), \n",
    "    n_responses=('response', 'sum'), \n",
    "    p_response=('response', 'mean')\n",
    "))"
   ]
  },
  {
   "cell_type": "code",
   "execution_count": 17,
   "id": "1848115a-3cff-42ec-8dbf-50541deced76",
   "metadata": {},
   "outputs": [
    {
     "data": {
      "text/html": [
       "<div>\n",
       "<style scoped>\n",
       "    .dataframe tbody tr th:only-of-type {\n",
       "        vertical-align: middle;\n",
       "    }\n",
       "\n",
       "    .dataframe tbody tr th {\n",
       "        vertical-align: top;\n",
       "    }\n",
       "\n",
       "    .dataframe thead th {\n",
       "        text-align: right;\n",
       "    }\n",
       "</style>\n",
       "<table border=\"1\" class=\"dataframe\">\n",
       "  <thead>\n",
       "    <tr style=\"text-align: right;\">\n",
       "      <th></th>\n",
       "      <th>n_trials</th>\n",
       "      <th>n_responses</th>\n",
       "      <th>p_response</th>\n",
       "    </tr>\n",
       "    <tr>\n",
       "      <th>s_audio</th>\n",
       "      <th></th>\n",
       "      <th></th>\n",
       "      <th></th>\n",
       "    </tr>\n",
       "  </thead>\n",
       "  <tbody>\n",
       "    <tr>\n",
       "      <th>False</th>\n",
       "      <td>190</td>\n",
       "      <td>86</td>\n",
       "      <td>0.452632</td>\n",
       "    </tr>\n",
       "    <tr>\n",
       "      <th>True</th>\n",
       "      <td>215</td>\n",
       "      <td>202</td>\n",
       "      <td>0.939535</td>\n",
       "    </tr>\n",
       "  </tbody>\n",
       "</table>\n",
       "</div>"
      ],
      "text/plain": [
       "         n_trials  n_responses  p_response\n",
       "s_audio                                   \n",
       "False         190           86    0.452632\n",
       "True          215          202    0.939535"
      ]
     },
     "execution_count": 17,
     "metadata": {},
     "output_type": "execute_result"
    }
   ],
   "source": [
    "(df_4.groupby('s_audio').agg(\n",
    "    n_trials=('response', 'count'), \n",
    "    n_responses=('response', 'sum'), \n",
    "    p_response=('response', 'mean')\n",
    "))"
   ]
  }
 ],
 "metadata": {
  "kernelspec": {
   "display_name": "Python 3 (ipykernel)",
   "language": "python",
   "name": "python3"
  },
  "language_info": {
   "codemirror_mode": {
    "name": "ipython",
    "version": 3
   },
   "file_extension": ".py",
   "mimetype": "text/x-python",
   "name": "python",
   "nbconvert_exporter": "python",
   "pygments_lexer": "ipython3",
   "version": "3.7.11"
  }
 },
 "nbformat": 4,
 "nbformat_minor": 5
}

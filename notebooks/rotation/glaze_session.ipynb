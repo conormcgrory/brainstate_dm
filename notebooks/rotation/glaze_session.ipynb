{
 "cells": [
  {
   "cell_type": "markdown",
   "id": "9b0f9f19-6253-48bb-b825-e6b040372832",
   "metadata": {},
   "source": [
    "# Fit Glaze model to different sessions"
   ]
  },
  {
   "cell_type": "markdown",
   "id": "58a955d3-21ce-442e-9ba0-b5bd09279337",
   "metadata": {},
   "source": [
    "## Setup"
   ]
  },
  {
   "cell_type": "markdown",
   "id": "c8114570-3a42-4698-a8f4-50fd440f4fc5",
   "metadata": {},
   "source": [
    "### Imports"
   ]
  },
  {
   "cell_type": "code",
   "execution_count": 1,
   "id": "5a1528a5-437c-4066-b6f3-59939ab4d4ab",
   "metadata": {},
   "outputs": [],
   "source": [
    "import numpy as np\n",
    "import pandas as pd\n",
    "import matplotlib.pyplot as plt\n",
    "\n",
    "from ibldata import get_session_data\n",
    "from bfdm.glazemodel import GlazeModel"
   ]
  },
  {
   "cell_type": "markdown",
   "id": "07cb8d60-ab13-4b86-ae6c-da0f4003b52e",
   "metadata": {},
   "source": [
    "### Connect to IBL database using DataJoint"
   ]
  },
  {
   "cell_type": "code",
   "execution_count": 2,
   "id": "27cfab1e-c664-46b5-9617-f193ac3b6d4c",
   "metadata": {},
   "outputs": [
    {
     "name": "stdout",
     "output_type": "stream",
     "text": [
      "Connecting ibldemo@datajoint-public.internationalbrainlab.org:3306\n"
     ]
    },
    {
     "data": {
      "text/plain": [
       "DataJoint connection (connected) ibldemo@datajoint-public.internationalbrainlab.org:3306"
      ]
     },
     "execution_count": 2,
     "metadata": {},
     "output_type": "execute_result"
    }
   ],
   "source": [
    "import datajoint as dj\n",
    "\n",
    "dj.config['database.host'] = 'datajoint-public.internationalbrainlab.org'\n",
    "dj.config['database.user'] = 'ibldemo'\n",
    "dj.config['database.password'] = 'sfn2019demo'\n",
    "\n",
    "dj.conn()"
   ]
  },
  {
   "cell_type": "markdown",
   "id": "4630c353-07e0-4427-82e0-5fe07d2cbfae",
   "metadata": {
    "pycharm": {
     "name": "#%%\n"
    }
   },
   "source": [
    "### Import IBL pipeline schemas and utility functions"
   ]
  },
  {
   "cell_type": "code",
   "execution_count": 13,
   "id": "25bb085b-faa7-4a16-a5b2-70b1e5883ba9",
   "metadata": {},
   "outputs": [],
   "source": [
    "from ibl_pipeline import reference, subject, action, acquisition, data, behavior, behavior_analyses, ephys, histology"
   ]
  },
  {
   "cell_type": "markdown",
   "id": "5d56dbeb-a451-46c2-8d61-99b81f9c156e",
   "metadata": {},
   "source": [
    "## Load trained sessions"
   ]
  },
  {
   "cell_type": "code",
   "execution_count": 3,
   "id": "79604a82-3b52-4d92-afd0-ceb45bb572fd",
   "metadata": {},
   "outputs": [
    {
     "data": {
      "text/html": [
       "<div>\n",
       "<style scoped>\n",
       "    .dataframe tbody tr th:only-of-type {\n",
       "        vertical-align: middle;\n",
       "    }\n",
       "\n",
       "    .dataframe tbody tr th {\n",
       "        vertical-align: top;\n",
       "    }\n",
       "\n",
       "    .dataframe thead th {\n",
       "        text-align: right;\n",
       "    }\n",
       "</style>\n",
       "<table border=\"1\" class=\"dataframe\">\n",
       "  <thead>\n",
       "    <tr style=\"text-align: right;\">\n",
       "      <th></th>\n",
       "      <th>subject_uuid</th>\n",
       "      <th>session_start_time</th>\n",
       "    </tr>\n",
       "  </thead>\n",
       "  <tbody>\n",
       "    <tr>\n",
       "      <th>0</th>\n",
       "      <td>bc381af7-631d-4ed0-95f9-8231c830158a</td>\n",
       "      <td>2019-03-04 10:26:45</td>\n",
       "    </tr>\n",
       "    <tr>\n",
       "      <th>1</th>\n",
       "      <td>bc381af7-631d-4ed0-95f9-8231c830158a</td>\n",
       "      <td>2019-03-05 10:13:37</td>\n",
       "    </tr>\n",
       "    <tr>\n",
       "      <th>2</th>\n",
       "      <td>bc381af7-631d-4ed0-95f9-8231c830158a</td>\n",
       "      <td>2019-03-05 11:05:38</td>\n",
       "    </tr>\n",
       "    <tr>\n",
       "      <th>3</th>\n",
       "      <td>bc381af7-631d-4ed0-95f9-8231c830158a</td>\n",
       "      <td>2019-03-06 09:16:12</td>\n",
       "    </tr>\n",
       "    <tr>\n",
       "      <th>4</th>\n",
       "      <td>bc381af7-631d-4ed0-95f9-8231c830158a</td>\n",
       "      <td>2019-03-07 09:25:04</td>\n",
       "    </tr>\n",
       "    <tr>\n",
       "      <th>...</th>\n",
       "      <td>...</td>\n",
       "      <td>...</td>\n",
       "    </tr>\n",
       "    <tr>\n",
       "      <th>7576</th>\n",
       "      <td>5ba2da46-8213-4dd1-ac4e-3dc1eafd7141</td>\n",
       "      <td>2019-11-04 11:00:14</td>\n",
       "    </tr>\n",
       "    <tr>\n",
       "      <th>7577</th>\n",
       "      <td>5ba2da46-8213-4dd1-ac4e-3dc1eafd7141</td>\n",
       "      <td>2019-11-05 10:48:58</td>\n",
       "    </tr>\n",
       "    <tr>\n",
       "      <th>7578</th>\n",
       "      <td>5ba2da46-8213-4dd1-ac4e-3dc1eafd7141</td>\n",
       "      <td>2019-11-07 10:56:35</td>\n",
       "    </tr>\n",
       "    <tr>\n",
       "      <th>7579</th>\n",
       "      <td>5ba2da46-8213-4dd1-ac4e-3dc1eafd7141</td>\n",
       "      <td>2019-11-08 11:19:05</td>\n",
       "    </tr>\n",
       "    <tr>\n",
       "      <th>7580</th>\n",
       "      <td>5ba2da46-8213-4dd1-ac4e-3dc1eafd7141</td>\n",
       "      <td>2019-11-13 11:04:09</td>\n",
       "    </tr>\n",
       "  </tbody>\n",
       "</table>\n",
       "<p>7581 rows × 2 columns</p>\n",
       "</div>"
      ],
      "text/plain": [
       "                              subject_uuid   session_start_time\n",
       "0     bc381af7-631d-4ed0-95f9-8231c830158a  2019-03-04 10:26:45\n",
       "1     bc381af7-631d-4ed0-95f9-8231c830158a  2019-03-05 10:13:37\n",
       "2     bc381af7-631d-4ed0-95f9-8231c830158a  2019-03-05 11:05:38\n",
       "3     bc381af7-631d-4ed0-95f9-8231c830158a  2019-03-06 09:16:12\n",
       "4     bc381af7-631d-4ed0-95f9-8231c830158a  2019-03-07 09:25:04\n",
       "...                                    ...                  ...\n",
       "7576  5ba2da46-8213-4dd1-ac4e-3dc1eafd7141  2019-11-04 11:00:14\n",
       "7577  5ba2da46-8213-4dd1-ac4e-3dc1eafd7141  2019-11-05 10:48:58\n",
       "7578  5ba2da46-8213-4dd1-ac4e-3dc1eafd7141  2019-11-07 10:56:35\n",
       "7579  5ba2da46-8213-4dd1-ac4e-3dc1eafd7141  2019-11-08 11:19:05\n",
       "7580  5ba2da46-8213-4dd1-ac4e-3dc1eafd7141  2019-11-13 11:04:09\n",
       "\n",
       "[7581 rows x 2 columns]"
      ]
     },
     "execution_count": 3,
     "metadata": {},
     "output_type": "execute_result"
    }
   ],
   "source": [
    "sessions_df = pd.read_csv('../data/ibl/trained_sessions.csv', index_col=0)\n",
    "sessions_df"
   ]
  },
  {
   "cell_type": "markdown",
   "id": "4cfd2ac2-04a8-47d6-829d-ef5d5247bccf",
   "metadata": {},
   "source": [
    "## Download data"
   ]
  },
  {
   "cell_type": "code",
   "execution_count": 15,
   "id": "64739d2d-a304-4710-a638-248057d1afdc",
   "metadata": {},
   "outputs": [],
   "source": []
  },
  {
   "cell_type": "code",
   "execution_count": null,
   "id": "61148233-542d-47bc-b14d-dee9b4146150",
   "metadata": {},
   "outputs": [],
   "source": []
  },
  {
   "cell_type": "code",
   "execution_count": 4,
   "id": "826e12bc-9c65-4578-b346-78bb38480fbe",
   "metadata": {},
   "outputs": [
    {
     "name": "stdout",
     "output_type": "stream",
     "text": [
      "subject_uuid:bc381af7-631d-4ed0-95f9-8231c830158a\n",
      "session_start_time:2019-03-06 09:16:12\n",
      "h: 0.18917233423167334\n",
      "w_0: -1.1379018718137985\n",
      "w_1: 1.1120756576515312\n",
      "subject_uuid:bc381af7-631d-4ed0-95f9-8231c830158a\n",
      "session_start_time:2019-03-07 09:25:04\n",
      "h: 0.36133552501987365\n",
      "w_0: -1.3558743815038856\n",
      "w_1: 2.741140205210599\n",
      "subject_uuid:bc381af7-631d-4ed0-95f9-8231c830158a\n",
      "session_start_time:2019-03-08 09:06:29\n",
      "h: 0.4822224528096262\n",
      "w_0: -0.20002017261702681\n",
      "w_1: 4.502266351290506\n"
     ]
    }
   ],
   "source": [
    "for k in [3, 4, 5]:\n",
    "    \n",
    "    # Load uuid and start time of next session\n",
    "    uuid = sessions_df.at[k, 'subject_uuid']\n",
    "    t_start = sessions_df.at[k, 'session_start_time']\n",
    "    \n",
    "    # Get session data from database\n",
    "    df = get_session_data(uuid, t_start)\n",
    "    \n",
    "    data = df[['signed_contrast', 'choice']].to_numpy()\n",
    "    x = data[:, 0]\n",
    "    y = data[:, 1]\n",
    "    \n",
    "    # Fit Glaze model\n",
    "    model = GlazeModel()\n",
    "    model.fit(x, y)\n",
    "    \n",
    "    # Print results\n",
    "    print(f'subject_uuid:{uuid}')\n",
    "    print(f'session_start_time:{t_start}')\n",
    "    print(f'h: {model.h}')\n",
    "    print(f'w_0: {model.w_0}')\n",
    "    print(f'w_1: {model.w_1}')"
   ]
  },
  {
   "cell_type": "code",
   "execution_count": null,
   "id": "ee7fedf6-2391-49d3-842e-f31ea95dcd10",
   "metadata": {},
   "outputs": [],
   "source": []
  }
 ],
 "metadata": {
  "kernelspec": {
   "display_name": "Python 3 (ipykernel)",
   "language": "python",
   "name": "python3"
  },
  "language_info": {
   "codemirror_mode": {
    "name": "ipython",
    "version": 3
   },
   "file_extension": ".py",
   "mimetype": "text/x-python",
   "name": "python",
   "nbconvert_exporter": "python",
   "pygments_lexer": "ipython3",
   "version": "3.7.11"
  }
 },
 "nbformat": 4,
 "nbformat_minor": 5
}

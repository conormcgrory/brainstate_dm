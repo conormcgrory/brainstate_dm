{
 "cells": [
  {
   "cell_type": "markdown",
   "metadata": {},
   "source": [
    "# Inspect parameters of IBL model fit to IBL sessions\n",
    "\n",
    "This notebook examines the output of the script `fit_ibl_all.py`, which fits the IBL model to behavior data from each of the selected IBL sessions. The distributions of the hazard rate $h$, side probability $a$ and bias $w_0$ parameters seem to be closely concentrated around the ground-truth experimental values of these parameters. This means that in most of the 'trained' sessions, the animals are behaving in a way roughly consistent with the IBL model."
   ]
  },
  {
   "cell_type": "code",
   "execution_count": 1,
   "metadata": {},
   "outputs": [],
   "source": [
    "import numpy as np\n",
    "import pandas as pd\n",
    "import matplotlib.pyplot as plt\n",
    "\n",
    "from scipy.special import logit, expit"
   ]
  },
  {
   "cell_type": "markdown",
   "metadata": {},
   "source": [
    "## Load and preprocess trained parameters"
   ]
  },
  {
   "cell_type": "code",
   "execution_count": 2,
   "metadata": {},
   "outputs": [
    {
     "data": {
      "text/html": [
       "<div>\n",
       "<style scoped>\n",
       "    .dataframe tbody tr th:only-of-type {\n",
       "        vertical-align: middle;\n",
       "    }\n",
       "\n",
       "    .dataframe tbody tr th {\n",
       "        vertical-align: top;\n",
       "    }\n",
       "\n",
       "    .dataframe thead th {\n",
       "        text-align: right;\n",
       "    }\n",
       "</style>\n",
       "<table border=\"1\" class=\"dataframe\">\n",
       "  <thead>\n",
       "    <tr style=\"text-align: right;\">\n",
       "      <th></th>\n",
       "      <th>h</th>\n",
       "      <th>a</th>\n",
       "      <th>w_0</th>\n",
       "      <th>w_1</th>\n",
       "    </tr>\n",
       "  </thead>\n",
       "  <tbody>\n",
       "    <tr>\n",
       "      <th>0</th>\n",
       "      <td>0.059799</td>\n",
       "      <td>0.692378</td>\n",
       "      <td>-0.285628</td>\n",
       "      <td>4.338369</td>\n",
       "    </tr>\n",
       "    <tr>\n",
       "      <th>1</th>\n",
       "      <td>0.440829</td>\n",
       "      <td>1.000000</td>\n",
       "      <td>-1.414074</td>\n",
       "      <td>0.957510</td>\n",
       "    </tr>\n",
       "    <tr>\n",
       "      <th>2</th>\n",
       "      <td>0.029485</td>\n",
       "      <td>0.224732</td>\n",
       "      <td>-0.049566</td>\n",
       "      <td>4.022512</td>\n",
       "    </tr>\n",
       "    <tr>\n",
       "      <th>3</th>\n",
       "      <td>0.036052</td>\n",
       "      <td>0.655331</td>\n",
       "      <td>-0.594451</td>\n",
       "      <td>3.348424</td>\n",
       "    </tr>\n",
       "    <tr>\n",
       "      <th>4</th>\n",
       "      <td>0.004738</td>\n",
       "      <td>0.273986</td>\n",
       "      <td>-1.510648</td>\n",
       "      <td>3.068086</td>\n",
       "    </tr>\n",
       "    <tr>\n",
       "      <th>...</th>\n",
       "      <td>...</td>\n",
       "      <td>...</td>\n",
       "      <td>...</td>\n",
       "      <td>...</td>\n",
       "    </tr>\n",
       "    <tr>\n",
       "      <th>3799</th>\n",
       "      <td>0.134901</td>\n",
       "      <td>0.832846</td>\n",
       "      <td>-0.410120</td>\n",
       "      <td>16.885653</td>\n",
       "    </tr>\n",
       "    <tr>\n",
       "      <th>3800</th>\n",
       "      <td>0.141517</td>\n",
       "      <td>0.200722</td>\n",
       "      <td>-0.546656</td>\n",
       "      <td>18.626916</td>\n",
       "    </tr>\n",
       "    <tr>\n",
       "      <th>3801</th>\n",
       "      <td>0.025518</td>\n",
       "      <td>0.235257</td>\n",
       "      <td>-0.158355</td>\n",
       "      <td>11.810004</td>\n",
       "    </tr>\n",
       "    <tr>\n",
       "      <th>3802</th>\n",
       "      <td>0.086173</td>\n",
       "      <td>0.179325</td>\n",
       "      <td>-0.769451</td>\n",
       "      <td>30.015691</td>\n",
       "    </tr>\n",
       "    <tr>\n",
       "      <th>3803</th>\n",
       "      <td>0.048912</td>\n",
       "      <td>0.216445</td>\n",
       "      <td>-0.258139</td>\n",
       "      <td>10.224342</td>\n",
       "    </tr>\n",
       "  </tbody>\n",
       "</table>\n",
       "<p>3804 rows × 4 columns</p>\n",
       "</div>"
      ],
      "text/plain": [
       "             h         a       w_0        w_1\n",
       "0     0.059799  0.692378 -0.285628   4.338369\n",
       "1     0.440829  1.000000 -1.414074   0.957510\n",
       "2     0.029485  0.224732 -0.049566   4.022512\n",
       "3     0.036052  0.655331 -0.594451   3.348424\n",
       "4     0.004738  0.273986 -1.510648   3.068086\n",
       "...        ...       ...       ...        ...\n",
       "3799  0.134901  0.832846 -0.410120  16.885653\n",
       "3800  0.141517  0.200722 -0.546656  18.626916\n",
       "3801  0.025518  0.235257 -0.158355  11.810004\n",
       "3802  0.086173  0.179325 -0.769451  30.015691\n",
       "3803  0.048912  0.216445 -0.258139  10.224342\n",
       "\n",
       "[3804 rows x 4 columns]"
      ]
     },
     "execution_count": 2,
     "metadata": {},
     "output_type": "execute_result"
    }
   ],
   "source": [
    "df = pd.read_csv('../data/ibl/ibl_params.csv', index_col=0)\n",
    "df"
   ]
  },
  {
   "cell_type": "code",
   "execution_count": 3,
   "metadata": {},
   "outputs": [
    {
     "data": {
      "text/html": [
       "<div>\n",
       "<style scoped>\n",
       "    .dataframe tbody tr th:only-of-type {\n",
       "        vertical-align: middle;\n",
       "    }\n",
       "\n",
       "    .dataframe tbody tr th {\n",
       "        vertical-align: top;\n",
       "    }\n",
       "\n",
       "    .dataframe thead th {\n",
       "        text-align: right;\n",
       "    }\n",
       "</style>\n",
       "<table border=\"1\" class=\"dataframe\">\n",
       "  <thead>\n",
       "    <tr style=\"text-align: right;\">\n",
       "      <th></th>\n",
       "      <th>h</th>\n",
       "      <th>a</th>\n",
       "      <th>w_0</th>\n",
       "      <th>w_1</th>\n",
       "      <th>logit_h</th>\n",
       "    </tr>\n",
       "  </thead>\n",
       "  <tbody>\n",
       "    <tr>\n",
       "      <th>0</th>\n",
       "      <td>0.059799</td>\n",
       "      <td>0.692378</td>\n",
       "      <td>-0.285628</td>\n",
       "      <td>4.338369</td>\n",
       "      <td>-2.755106</td>\n",
       "    </tr>\n",
       "    <tr>\n",
       "      <th>1</th>\n",
       "      <td>0.440829</td>\n",
       "      <td>1.000000</td>\n",
       "      <td>-1.414074</td>\n",
       "      <td>0.957510</td>\n",
       "      <td>-0.237796</td>\n",
       "    </tr>\n",
       "    <tr>\n",
       "      <th>2</th>\n",
       "      <td>0.029485</td>\n",
       "      <td>0.224732</td>\n",
       "      <td>-0.049566</td>\n",
       "      <td>4.022512</td>\n",
       "      <td>-3.493929</td>\n",
       "    </tr>\n",
       "    <tr>\n",
       "      <th>3</th>\n",
       "      <td>0.036052</td>\n",
       "      <td>0.655331</td>\n",
       "      <td>-0.594451</td>\n",
       "      <td>3.348424</td>\n",
       "      <td>-3.286080</td>\n",
       "    </tr>\n",
       "    <tr>\n",
       "      <th>4</th>\n",
       "      <td>0.004738</td>\n",
       "      <td>0.273986</td>\n",
       "      <td>-1.510648</td>\n",
       "      <td>3.068086</td>\n",
       "      <td>-5.347464</td>\n",
       "    </tr>\n",
       "    <tr>\n",
       "      <th>...</th>\n",
       "      <td>...</td>\n",
       "      <td>...</td>\n",
       "      <td>...</td>\n",
       "      <td>...</td>\n",
       "      <td>...</td>\n",
       "    </tr>\n",
       "    <tr>\n",
       "      <th>3799</th>\n",
       "      <td>0.134901</td>\n",
       "      <td>0.832846</td>\n",
       "      <td>-0.410120</td>\n",
       "      <td>16.885653</td>\n",
       "      <td>-1.858305</td>\n",
       "    </tr>\n",
       "    <tr>\n",
       "      <th>3800</th>\n",
       "      <td>0.141517</td>\n",
       "      <td>0.200722</td>\n",
       "      <td>-0.546656</td>\n",
       "      <td>18.626916</td>\n",
       "      <td>-1.802748</td>\n",
       "    </tr>\n",
       "    <tr>\n",
       "      <th>3801</th>\n",
       "      <td>0.025518</td>\n",
       "      <td>0.235257</td>\n",
       "      <td>-0.158355</td>\n",
       "      <td>11.810004</td>\n",
       "      <td>-3.642530</td>\n",
       "    </tr>\n",
       "    <tr>\n",
       "      <th>3802</th>\n",
       "      <td>0.086173</td>\n",
       "      <td>0.179325</td>\n",
       "      <td>-0.769451</td>\n",
       "      <td>30.015691</td>\n",
       "      <td>-2.361282</td>\n",
       "    </tr>\n",
       "    <tr>\n",
       "      <th>3803</th>\n",
       "      <td>0.048912</td>\n",
       "      <td>0.216445</td>\n",
       "      <td>-0.258139</td>\n",
       "      <td>10.224342</td>\n",
       "      <td>-2.967576</td>\n",
       "    </tr>\n",
       "  </tbody>\n",
       "</table>\n",
       "<p>3804 rows × 5 columns</p>\n",
       "</div>"
      ],
      "text/plain": [
       "             h         a       w_0        w_1   logit_h\n",
       "0     0.059799  0.692378 -0.285628   4.338369 -2.755106\n",
       "1     0.440829  1.000000 -1.414074   0.957510 -0.237796\n",
       "2     0.029485  0.224732 -0.049566   4.022512 -3.493929\n",
       "3     0.036052  0.655331 -0.594451   3.348424 -3.286080\n",
       "4     0.004738  0.273986 -1.510648   3.068086 -5.347464\n",
       "...        ...       ...       ...        ...       ...\n",
       "3799  0.134901  0.832846 -0.410120  16.885653 -1.858305\n",
       "3800  0.141517  0.200722 -0.546656  18.626916 -1.802748\n",
       "3801  0.025518  0.235257 -0.158355  11.810004 -3.642530\n",
       "3802  0.086173  0.179325 -0.769451  30.015691 -2.361282\n",
       "3803  0.048912  0.216445 -0.258139  10.224342 -2.967576\n",
       "\n",
       "[3804 rows x 5 columns]"
      ]
     },
     "execution_count": 3,
     "metadata": {},
     "output_type": "execute_result"
    }
   ],
   "source": [
    "# Add logit_h column (this is the parameter that's actually learned)\n",
    "df['logit_h'] = df.apply(lambda row: logit(row['h']), axis=1)\n",
    "df"
   ]
  },
  {
   "cell_type": "code",
   "execution_count": 4,
   "metadata": {},
   "outputs": [
    {
     "name": "stdout",
     "output_type": "stream",
     "text": [
      "num dropped: 51\n"
     ]
    }
   ],
   "source": [
    "# Drop rows with extremely large or small h-values\n",
    "nrows_raw = len(df)\n",
    "df = df[(df.h < 1.0) & (df.h > 0.00001)]\n",
    "nrows_clean = len(df)\n",
    "\n",
    "print(f'num dropped: {nrows_raw - nrows_clean}')"
   ]
  },
  {
   "cell_type": "markdown",
   "metadata": {},
   "source": [
    "## Examine distributions of trained parameters"
   ]
  },
  {
   "cell_type": "markdown",
   "metadata": {},
   "source": [
    "### Hazard rate ($h$ and $\\text{logit}(h)$)"
   ]
  },
  {
   "cell_type": "code",
   "execution_count": 5,
   "metadata": {},
   "outputs": [
    {
     "name": "stdout",
     "output_type": "stream",
     "text": [
      "h_true: 0.0196078431372549\n",
      "h_mean: 0.09437784054099066\n",
      "h_median: 0.044270698089998\n"
     ]
    },
    {
     "data": {
      "image/png": "[encoded data removed]",
      "text/plain": [
       "<Figure size 432x288 with 1 Axes>"
      ]
     },
     "metadata": {
      "needs_background": "light"
     },
     "output_type": "display_data"
    }
   ],
   "source": [
    "h_true = 1 / 51\n",
    "h_mean = df['h'].mean()\n",
    "h_median = df['h'].median()\n",
    "\n",
    "print(f'h_true: {h_true}')\n",
    "print(f'h_mean: {h_mean}')\n",
    "print(f'h_median: {h_median}')\n",
    "\n",
    "ax = df['h'].hist(bins=100)\n",
    "ax.axvline(h_true, color='black');"
   ]
  },
  {
   "cell_type": "code",
   "execution_count": 10,
   "metadata": {},
   "outputs": [
    {
     "name": "stdout",
     "output_type": "stream",
     "text": [
      "logit_h_true: -3.912023005428146\n",
      "logit_h_mean: -3.044830278399883\n",
      "logit_h_median: -3.0721517004193037\n"
     ]
    },
    {
     "data": {
      "image/png": "[encoded data removed]",
      "text/plain": [
       "<Figure size 432x288 with 1 Axes>"
      ]
     },
     "metadata": {
      "needs_background": "light"
     },
     "output_type": "display_data"
    }
   ],
   "source": [
    "logit_h_true = logit(h_true)\n",
    "logit_h_mean = df['logit_h'].mean()\n",
    "logit_h_median = df['logit_h'].median()\n",
    "\n",
    "print(f'logit_h_true: {logit_h_true}')\n",
    "print(f'logit_h_mean: {logit_h_mean}')\n",
    "print(f'logit_h_median: {logit_h_median}')\n",
    "\n",
    "ax = df['logit_h'].hist(bins=100)\n",
    "ax.axvline(logit_h_true, color='black');\n"
   ]
  },
  {
   "cell_type": "markdown",
   "metadata": {},
   "source": [
    "### Side probability ($a$)"
   ]
  },
  {
   "cell_type": "code",
   "execution_count": 7,
   "metadata": {},
   "outputs": [
    {
     "name": "stdout",
     "output_type": "stream",
     "text": [
      "a_true: 0.8\n",
      "a_mean: 0.49595375727867624\n",
      "a_median: 0.4999999733324315\n"
     ]
    },
    {
     "data": {
      "image/png": "[encoded data removed]",
      "text/plain": [
       "<Figure size 432x288 with 1 Axes>"
      ]
     },
     "metadata": {
      "needs_background": "light"
     },
     "output_type": "display_data"
    }
   ],
   "source": [
    "a_true = 0.8\n",
    "a_mean = df['a'].mean()\n",
    "a_median = df['a'].median()\n",
    "\n",
    "print(f'a_true: {a_true}')\n",
    "print(f'a_mean: {a_mean}')\n",
    "print(f'a_median: {a_median}')\n",
    "\n",
    "ax = df['a'].hist(bins=100)\n",
    "ax.axvline(a_true, color='black')\n",
    "ax.axvline(1 - a_true, color='black');"
   ]
  },
  {
   "cell_type": "markdown",
   "metadata": {},
   "source": [
    "**Note:** Code is learning $a$-value correctly, but this isn't reflected in mean because there are _two_ equivalent values of $a$: 0.8 and 0.2. The optimization routine lands on each of these about half the time, so the mean and median end up being around 0.5. Is there some way we can disambiguate this?"
   ]
  },
  {
   "cell_type": "markdown",
   "metadata": {},
   "source": [
    "### Bias ($w_0$)"
   ]
  },
  {
   "cell_type": "code",
   "execution_count": 8,
   "metadata": {},
   "outputs": [
    {
     "name": "stdout",
     "output_type": "stream",
     "text": [
      "w0_true: 0.0\n",
      "w0_mean: 0.0029901579735812957\n",
      "w0_median: -0.0134430529659513\n"
     ]
    },
    {
     "data": {
      "image/png": "[encoded data removed]",
      "text/plain": [
       "<Figure size 432x288 with 1 Axes>"
      ]
     },
     "metadata": {
      "needs_background": "light"
     },
     "output_type": "display_data"
    }
   ],
   "source": [
    "w0_true = 0.0\n",
    "w0_mean = df['w_0'].mean()\n",
    "w0_median = df['w_0'].median()\n",
    "\n",
    "print(f'w0_true: {w0_true}')\n",
    "print(f'w0_mean: {w0_mean}')\n",
    "print(f'w0_median: {w0_median}')\n",
    "\n",
    "ax = df['w_0'].hist(bins=100)\n",
    "ax.axvline(w0_true, color='black');"
   ]
  },
  {
   "cell_type": "markdown",
   "metadata": {},
   "source": [
    "### Coefficient ($w_1$)"
   ]
  },
  {
   "cell_type": "code",
   "execution_count": 9,
   "metadata": {},
   "outputs": [
    {
     "name": "stdout",
     "output_type": "stream",
     "text": [
      "w1_mean: 7.730805296778847\n",
      "w1_median: 6.136818770643815\n"
     ]
    },
    {
     "data": {
      "image/png": "[encoded data removed]",
      "text/plain": [
       "<Figure size 432x288 with 1 Axes>"
      ]
     },
     "metadata": {
      "needs_background": "light"
     },
     "output_type": "display_data"
    }
   ],
   "source": [
    "w1_mean = df['w_1'].mean()\n",
    "w1_median = df['w_1'].median()\n",
    "\n",
    "print(f'w1_mean: {w1_mean}')\n",
    "print(f'w1_median: {w1_median}')\n",
    "\n",
    "ax = df['w_1'].hist(bins=100)"
   ]
  },
  {
   "cell_type": "code",
   "execution_count": null,
   "metadata": {},
   "outputs": [],
   "source": []
  }
 ],
 "metadata": {
  "interpreter": {
   "hash": "6a557bb817bc449a6bcc44faf87acce68128424d330fe978373096a663d3489c"
  },
  "kernelspec": {
   "display_name": "Python 3.7.11 ('bs_dm')",
   "language": "python",
   "name": "python3"
  },
  "language_info": {
   "codemirror_mode": {
    "name": "ipython",
    "version": 3
   },
   "file_extension": ".py",
   "mimetype": "text/x-python",
   "name": "python",
   "nbconvert_exporter": "python",
   "pygments_lexer": "ipython3",
   "version": "3.7.11"
  },
  "orig_nbformat": 4
 },
 "nbformat": 4,
 "nbformat_minor": 2
}

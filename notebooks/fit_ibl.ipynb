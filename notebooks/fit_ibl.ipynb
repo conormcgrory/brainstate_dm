{
 "cells": [
  {
   "cell_type": "markdown",
   "id": "67781e3b-5628-4416-a684-e78c2cca2477",
   "metadata": {},
   "source": [
    "# Fit Glaze-IBL model"
   ]
  },
  {
   "cell_type": "code",
   "execution_count": 1,
   "id": "7a8c8374-150a-4c2f-87fa-d97abb1fbf02",
   "metadata": {
    "tags": []
   },
   "outputs": [],
   "source": [
    "import numpy as np\n",
    "import pandas as pd\n",
    "import scipy.optimize as opt\n",
    "import matplotlib.pyplot as plt\n",
    "\n",
    "from scipy.special import logit, expit\n",
    "\n",
    "from models import IBLModel"
   ]
  },
  {
   "cell_type": "markdown",
   "id": "13f288a2-d0f7-4da1-9125-048a43da150f",
   "metadata": {},
   "source": [
    "## Load data"
   ]
  },
  {
   "cell_type": "code",
   "execution_count": 5,
   "id": "98c32acf-bc26-45a1-8712-f0e9705a656b",
   "metadata": {},
   "outputs": [],
   "source": [
    "# Load DataFrame\n",
    "df = pd.read_csv('../data/ibl/test_1.csv', index_col=0);\n",
    "\n",
    "# Load data from DataFrame into numpy array\n",
    "data = df[['signed_contrast', 'choice', 'correct_side']].to_numpy()\n",
    "x = data[:, 0]\n",
    "y = data[:, 1]\n",
    "s = data[:, 2]"
   ]
  },
  {
   "cell_type": "markdown",
   "id": "168eeea1-298d-4042-836b-a21da5008518",
   "metadata": {},
   "source": [
    "## Fit model"
   ]
  },
  {
   "cell_type": "markdown",
   "id": "82b19879-e5a2-4baa-b533-712305a8448c",
   "metadata": {},
   "source": [
    "### Negative log-likelihood\n",
    "\n",
    "The negative log-likelihood function for this model, is:\n",
    "$$\n",
    "NLL(\\theta) = \\sum_{t=1}^T \\log(1 + \\exp(r_t)) + \\sum_{t=1}^T y_t' r_t\n",
    "$$\n",
    "where $r_t$ is the log-posterior ratio, and $y_t' = \\frac{y_t + 1}{2}$. "
   ]
  },
  {
   "cell_type": "markdown",
   "id": "1e1222f1-fa18-4476-becf-76e5b1c7391b",
   "metadata": {},
   "source": [
    "#### Quick note\n",
    "\n",
    "The reason for using $y'$ here  instead of $y$ is that $y' \\in \\{0, 1\\}$ is easier to use to derive the likelihood  than $y \\in \\{-1, 1\\}$. The NLL could alternatively be stated as:\n",
    "$$\n",
    "NLL(\\theta) = \\sum_{t=1}^T \\log(1 + \\exp(r_t)) + \\sum_{\\{t:y_t = 1\\}} r_t\n",
    "$$"
   ]
  },
  {
   "cell_type": "code",
   "execution_count": 18,
   "id": "892edd72-e8ff-4004-a293-12eb75d4c6da",
   "metadata": {},
   "outputs": [],
   "source": [
    "model = IBLModel()\n",
    "model.fit(x, y, s)"
   ]
  },
  {
   "cell_type": "code",
   "execution_count": 20,
   "id": "211d9bee-12ef-40ab-8b1a-a057bfda8807",
   "metadata": {},
   "outputs": [
    {
     "data": {
      "text/plain": [
       "0.8564624384527876"
      ]
     },
     "execution_count": 20,
     "metadata": {},
     "output_type": "execute_result"
    }
   ],
   "source": [
    "model.p_side"
   ]
  },
  {
   "cell_type": "code",
   "execution_count": 43,
   "id": "97d9b2e6-6d6c-4819-a4f2-0b22e26c972d",
   "metadata": {},
   "outputs": [
    {
     "data": {
      "text/plain": [
       "0.0196078431372549"
      ]
     },
     "execution_count": 43,
     "metadata": {},
     "output_type": "execute_result"
    }
   ],
   "source": [
    "1/51"
   ]
  },
  {
   "cell_type": "code",
   "execution_count": 38,
   "id": "9979ea74-d36d-4a9d-935b-682f19a1da21",
   "metadata": {},
   "outputs": [
    {
     "data": {
      "text/plain": [
       "-0.15473054564249855"
      ]
     },
     "execution_count": 38,
     "metadata": {},
     "output_type": "execute_result"
    }
   ],
   "source": [
    "model.w_0"
   ]
  },
  {
   "cell_type": "code",
   "execution_count": 39,
   "id": "cac64ced-0c3c-4b93-8219-f61955a788f2",
   "metadata": {},
   "outputs": [
    {
     "data": {
      "text/plain": [
       "2.350773405922418"
      ]
     },
     "execution_count": 39,
     "metadata": {},
     "output_type": "execute_result"
    }
   ],
   "source": [
    "model.w_1"
   ]
  },
  {
   "cell_type": "code",
   "execution_count": null,
   "id": "6419f155-95c3-4e20-9518-734d12464b30",
   "metadata": {},
   "outputs": [],
   "source": []
  }
 ],
 "metadata": {
  "kernelspec": {
   "display_name": "Python 3 (ipykernel)",
   "language": "python",
   "name": "python3"
  },
  "language_info": {
   "codemirror_mode": {
    "name": "ipython",
    "version": 3
   },
   "file_extension": ".py",
   "mimetype": "text/x-python",
   "name": "python",
   "nbconvert_exporter": "python",
   "pygments_lexer": "ipython3",
   "version": "3.7.11"
  }
 },
 "nbformat": 4,
 "nbformat_minor": 5
}

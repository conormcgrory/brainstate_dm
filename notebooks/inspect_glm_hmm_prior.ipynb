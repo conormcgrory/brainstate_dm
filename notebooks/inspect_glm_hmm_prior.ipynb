{
 "cells": [
  {
   "cell_type": "markdown",
   "metadata": {},
   "source": [
    "# Inspect results of GLM-HMM model fit with side prior\n",
    "\n",
    "This notebook examines the results of `scripts/fit_glm_hmm.py` run on the processed data in `data/processed/ashwood_all`, using the side prior from the IBL model as a covariate. The goal of this analysis is to see if the side prior can be used to predict mouse behavior, and how it changes the states found by the GLM-HMM."
   ]
  },
  {
   "cell_type": "code",
   "execution_count": 1,
   "metadata": {},
   "outputs": [],
   "source": [
    "import json\n",
    "import pprint\n",
    "\n",
    "import numpy as np\n",
    "import matplotlib.pyplot as plt\n",
    "from scipy.special import logit, expit"
   ]
  },
  {
   "cell_type": "markdown",
   "metadata": {},
   "source": [
    "## Load results"
   ]
  },
  {
   "cell_type": "code",
   "execution_count": 7,
   "metadata": {},
   "outputs": [],
   "source": [
    "result_fpaths = [f'../results/glm_hmm_prior_all/results_{i}.json' for i in range(1, 5)]\n",
    "\n",
    "results = []\n",
    "for fpath in result_fpaths:\n",
    "    with open(fpath, 'r') as f:\n",
    "        results.append(json.load(f))"
   ]
  },
  {
   "cell_type": "markdown",
   "metadata": {},
   "source": [
    "## Print parameters"
   ]
  },
  {
   "cell_type": "markdown",
   "metadata": {},
   "source": [
    "### 1-state model"
   ]
  },
  {
   "cell_type": "code",
   "execution_count": 8,
   "metadata": {},
   "outputs": [
    {
     "name": "stdout",
     "output_type": "stream",
     "text": [
      "{   'state 0': {   'bias': -0.06016542233496605,\n",
      "                   'coef': 2.454026402492831,\n",
      "                   'prior': -0.4868281795440341}}\n"
     ]
    }
   ],
   "source": [
    "pprint.pprint(results[0]['params'], indent=4)"
   ]
  },
  {
   "cell_type": "markdown",
   "metadata": {},
   "source": [
    "### 2-state model"
   ]
  },
  {
   "cell_type": "code",
   "execution_count": 9,
   "metadata": {},
   "outputs": [
    {
     "name": "stdout",
     "output_type": "stream",
     "text": [
      "{   'state 0': {   'bias': 1.4459030115997484,\n",
      "                   'coef': 2.2523322736951714,\n",
      "                   'prior': 0.353910724547018},\n",
      "    'state 1': {   'bias': -1.529147213284299,\n",
      "                   'coef': 2.1954102142320995,\n",
      "                   'prior': 0.7788720775713411}}\n"
     ]
    }
   ],
   "source": [
    "pprint.pprint(results[1]['params'], indent=4)"
   ]
  },
  {
   "cell_type": "markdown",
   "metadata": {},
   "source": [
    "### 3-state model"
   ]
  },
  {
   "cell_type": "code",
   "execution_count": 10,
   "metadata": {},
   "outputs": [
    {
     "name": "stdout",
     "output_type": "stream",
     "text": [
      "{   'state 0': {   'bias': -3.0488021881104417,\n",
      "                   'coef': 1.4690330892273784,\n",
      "                   'prior': 0.37027707354498196},\n",
      "    'state 1': {   'bias': 2.6707605019568113,\n",
      "                   'coef': 1.4786097747961764,\n",
      "                   'prior': -2.381297172087565},\n",
      "    'state 2': {   'bias': -0.20423027983431766,\n",
      "                   'coef': 8.754230733149877,\n",
      "                   'prior': -1.2589882797706855}}\n"
     ]
    }
   ],
   "source": [
    "pprint.pprint(results[2]['params'], indent=4)"
   ]
  },
  {
   "cell_type": "markdown",
   "metadata": {},
   "source": [
    "### 4-state model"
   ]
  },
  {
   "cell_type": "code",
   "execution_count": 11,
   "metadata": {},
   "outputs": [
    {
     "name": "stdout",
     "output_type": "stream",
     "text": [
      "{   'state 0': {   'bias': -1.2661849754191659,\n",
      "                   'coef': 7.854244701029181,\n",
      "                   'prior': 0.1299268026747347},\n",
      "    'state 1': {   'bias': 1.0958858569612204,\n",
      "                   'coef': 8.992729784097518,\n",
      "                   'prior': 0.4091900489585478},\n",
      "    'state 2': {   'bias': -3.346312824360152,\n",
      "                   'coef': 1.2077958052382356,\n",
      "                   'prior': 0.6452748415056031},\n",
      "    'state 3': {   'bias': 2.7993777643769424,\n",
      "                   'coef': 1.198499244696349,\n",
      "                   'prior': -0.07352142208407876}}\n"
     ]
    }
   ],
   "source": [
    "pprint.pprint(results[3]['params'], indent=4)"
   ]
  },
  {
   "cell_type": "markdown",
   "metadata": {},
   "source": [
    "## Plot log-likelihood as function of number of states"
   ]
  },
  {
   "cell_type": "code",
   "execution_count": 13,
   "metadata": {},
   "outputs": [
    {
     "data": {
      "text/plain": [
       "array([-383729.13511161, -315451.57465238, -266742.47685405,\n",
       "       -259644.65811175])"
      ]
     },
     "execution_count": 13,
     "metadata": {},
     "output_type": "execute_result"
    },
    {
     "data": {
      "image/png": "[encoded data removed]",
      "text/plain": [
       "<Figure size 432x288 with 1 Axes>"
      ]
     },
     "metadata": {
      "needs_background": "light"
     },
     "output_type": "display_data"
    }
   ],
   "source": [
    "nstate_vals = np.array([r['n_states'] for r in results])\n",
    "loglik_vals = np.array([r['fit_loglik'][-1] for r in results])\n",
    "\n",
    "plt.plot(nstate_vals, loglik_vals, 'ko-')\n",
    "plt.xticks(nstate_vals)\n",
    "plt.xlabel('num. states')\n",
    "plt.ylabel('log likelihood');"
   ]
  },
  {
   "cell_type": "markdown",
   "metadata": {},
   "source": [
    "As they found in Ashwood et al., 2022, the increase in the log-likelihood value drops off after 3 states. This means that the 3-state model is probably the best fit. (At some point in the future, we could use a metric like AIC (Akaike Information Criterion) to make sure that this is in fact the case.) "
   ]
  },
  {
   "cell_type": "markdown",
   "metadata": {},
   "source": [
    "## Plot psychometric curves of all states"
   ]
  },
  {
   "cell_type": "code",
   "execution_count": null,
   "metadata": {},
   "outputs": [],
   "source": [
    "def compute_psych_curve(x_vals, bias, coef):\n",
    "    return expit(bias + coef * x_vals)\n",
    "\n",
    "def plot_psych_curves(params, x_min, x_max):\n",
    "\n",
    "    x_vals = np.linspace(x_min, x_max, 1000)\n",
    "\n",
    "    for k, v in params.items():\n",
    "        y_vals = compute_psych_curve(x_vals, v['bias'], v['coef'])\n",
    "        plt.plot(x_vals, y_vals, label=k)\n",
    "        plt.xlabel('constrast (scaled)')\n",
    "        plt.ylabel('p(left)')\n",
    "\n",
    "    plt.legend()\n"
   ]
  },
  {
   "cell_type": "markdown",
   "metadata": {},
   "source": [
    "### 1-state model"
   ]
  },
  {
   "cell_type": "code",
   "execution_count": null,
   "metadata": {},
   "outputs": [],
   "source": [
    "res = results[0]\n",
    "\n",
    "params = res['params']\n",
    "x_min = -res['scl_factor']\n",
    "x_max = res['scl_factor']\n",
    "plot_psych_curves(params, x_min, x_max)"
   ]
  },
  {
   "cell_type": "markdown",
   "metadata": {},
   "source": [
    "### 2-state model"
   ]
  },
  {
   "cell_type": "code",
   "execution_count": null,
   "metadata": {},
   "outputs": [],
   "source": [
    "res = results[1]\n",
    "\n",
    "params = res['params']\n",
    "x_min = -res['scl_factor']\n",
    "x_max = res['scl_factor']\n",
    "plot_psych_curves(params, x_min, x_max)"
   ]
  },
  {
   "cell_type": "markdown",
   "metadata": {},
   "source": [
    "### 3-state model"
   ]
  },
  {
   "cell_type": "code",
   "execution_count": null,
   "metadata": {},
   "outputs": [],
   "source": [
    "res = results[2]\n",
    "\n",
    "params = res['params']\n",
    "x_min = -res['scl_factor']\n",
    "x_max = res['scl_factor']\n",
    "plot_psych_curves(params, x_min, x_max)"
   ]
  }
 ],
 "metadata": {
  "kernelspec": {
   "display_name": "Python 3.9.13 ('bfdm')",
   "language": "python",
   "name": "python3"
  },
  "language_info": {
   "codemirror_mode": {
    "name": "ipython",
    "version": 3
   },
   "file_extension": ".py",
   "mimetype": "text/x-python",
   "name": "python",
   "nbconvert_exporter": "python",
   "pygments_lexer": "ipython3",
   "version": "3.9.13"
  },
  "orig_nbformat": 4,
  "vscode": {
   "interpreter": {
    "hash": "145ef10c34b09969e8a666f4928c6bc91f9e5e82903119a7e49730a89eb39b9e"
   }
  }
 },
 "nbformat": 4,
 "nbformat_minor": 2
}

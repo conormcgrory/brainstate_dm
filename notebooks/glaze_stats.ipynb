{
 "cells": [
  {
   "cell_type": "markdown",
   "id": "9b0f9f19-6253-48bb-b825-e6b040372832",
   "metadata": {},
   "source": [
    "# Examine parameters of Glaze model fit to IBL sessions\n",
    "\n",
    "This notebook examines the output of the script `fit_glaze_all.py`, which fits the Glaze model to behavior data from each of the selected IBL sessions."
   ]
  },
  {
   "cell_type": "code",
   "execution_count": 1,
   "id": "5a1528a5-437c-4066-b6f3-59939ab4d4ab",
   "metadata": {},
   "outputs": [],
   "source": [
    "import numpy as np\n",
    "import pandas as pd\n",
    "import matplotlib.pyplot as plt"
   ]
  },
  {
   "cell_type": "code",
   "execution_count": 2,
   "id": "79604a82-3b52-4d92-afd0-ceb45bb572fd",
   "metadata": {},
   "outputs": [
    {
     "data": {
      "text/html": [
       "<div>\n",
       "<style scoped>\n",
       "    .dataframe tbody tr th:only-of-type {\n",
       "        vertical-align: middle;\n",
       "    }\n",
       "\n",
       "    .dataframe tbody tr th {\n",
       "        vertical-align: top;\n",
       "    }\n",
       "\n",
       "    .dataframe thead th {\n",
       "        text-align: right;\n",
       "    }\n",
       "</style>\n",
       "<table border=\"1\" class=\"dataframe\">\n",
       "  <thead>\n",
       "    <tr style=\"text-align: right;\">\n",
       "      <th></th>\n",
       "      <th>h</th>\n",
       "      <th>w_0</th>\n",
       "      <th>w_1</th>\n",
       "    </tr>\n",
       "  </thead>\n",
       "  <tbody>\n",
       "    <tr>\n",
       "      <th>0</th>\n",
       "      <td>0.413040</td>\n",
       "      <td>-0.261010</td>\n",
       "      <td>5.231195</td>\n",
       "    </tr>\n",
       "    <tr>\n",
       "      <th>1</th>\n",
       "      <td>0.667733</td>\n",
       "      <td>-1.890675</td>\n",
       "      <td>1.021505</td>\n",
       "    </tr>\n",
       "    <tr>\n",
       "      <th>2</th>\n",
       "      <td>0.171728</td>\n",
       "      <td>-0.024398</td>\n",
       "      <td>4.430435</td>\n",
       "    </tr>\n",
       "    <tr>\n",
       "      <th>3</th>\n",
       "      <td>0.392941</td>\n",
       "      <td>-0.420333</td>\n",
       "      <td>3.625906</td>\n",
       "    </tr>\n",
       "    <tr>\n",
       "      <th>4</th>\n",
       "      <td>0.435590</td>\n",
       "      <td>-1.347537</td>\n",
       "      <td>3.220095</td>\n",
       "    </tr>\n",
       "    <tr>\n",
       "      <th>...</th>\n",
       "      <td>...</td>\n",
       "      <td>...</td>\n",
       "      <td>...</td>\n",
       "    </tr>\n",
       "    <tr>\n",
       "      <th>3799</th>\n",
       "      <td>0.271319</td>\n",
       "      <td>-0.362286</td>\n",
       "      <td>17.604402</td>\n",
       "    </tr>\n",
       "    <tr>\n",
       "      <th>3800</th>\n",
       "      <td>0.358793</td>\n",
       "      <td>-0.490565</td>\n",
       "      <td>19.359084</td>\n",
       "    </tr>\n",
       "    <tr>\n",
       "      <th>3801</th>\n",
       "      <td>0.299964</td>\n",
       "      <td>-0.044534</td>\n",
       "      <td>12.613526</td>\n",
       "    </tr>\n",
       "    <tr>\n",
       "      <th>3802</th>\n",
       "      <td>0.368247</td>\n",
       "      <td>-0.640294</td>\n",
       "      <td>30.756389</td>\n",
       "    </tr>\n",
       "    <tr>\n",
       "      <th>3803</th>\n",
       "      <td>0.288748</td>\n",
       "      <td>-0.218377</td>\n",
       "      <td>11.173620</td>\n",
       "    </tr>\n",
       "  </tbody>\n",
       "</table>\n",
       "<p>3804 rows × 3 columns</p>\n",
       "</div>"
      ],
      "text/plain": [
       "             h       w_0        w_1\n",
       "0     0.413040 -0.261010   5.231195\n",
       "1     0.667733 -1.890675   1.021505\n",
       "2     0.171728 -0.024398   4.430435\n",
       "3     0.392941 -0.420333   3.625906\n",
       "4     0.435590 -1.347537   3.220095\n",
       "...        ...       ...        ...\n",
       "3799  0.271319 -0.362286  17.604402\n",
       "3800  0.358793 -0.490565  19.359084\n",
       "3801  0.299964 -0.044534  12.613526\n",
       "3802  0.368247 -0.640294  30.756389\n",
       "3803  0.288748 -0.218377  11.173620\n",
       "\n",
       "[3804 rows x 3 columns]"
      ]
     },
     "execution_count": 2,
     "metadata": {},
     "output_type": "execute_result"
    }
   ],
   "source": [
    "params_df = pd.read_csv('../data/ibl/glaze_params.csv', index_col=0)\n",
    "params_df"
   ]
  },
  {
   "cell_type": "code",
   "execution_count": 3,
   "id": "67057ab2-65c2-4ec8-b87e-f1d81f54bea9",
   "metadata": {},
   "outputs": [],
   "source": [
    "h_vals = params_df['h'].to_numpy()"
   ]
  },
  {
   "cell_type": "code",
   "execution_count": 14,
   "id": "1fe42d37-819b-4fff-9623-1bb76c0b8f80",
   "metadata": {},
   "outputs": [
    {
     "data": {
      "image/png": "[encoded data removed]",
      "text/plain": [
       "<Figure size 432x288 with 1 Axes>"
      ]
     },
     "metadata": {
      "needs_background": "light"
     },
     "output_type": "display_data"
    }
   ],
   "source": [
    "plt.hist(h_vals, bins=100)\n",
    "plt.title('estimated hazard rate')\n",
    "plt.xlabel('H')\n",
    "plt.ylabel('count');"
   ]
  },
  {
   "cell_type": "code",
   "execution_count": 6,
   "id": "c97fd6f6-3229-4033-986b-590582f2404f",
   "metadata": {},
   "outputs": [],
   "source": [
    "w0_vals = params_df['w_0'].to_numpy()"
   ]
  },
  {
   "cell_type": "code",
   "execution_count": 10,
   "id": "ef175057-1c04-4cfa-b201-cc0d378ec260",
   "metadata": {},
   "outputs": [
    {
     "data": {
      "image/png": "[encoded data removed]",
      "text/plain": [
       "<Figure size 432x288 with 1 Axes>"
      ]
     },
     "metadata": {
      "needs_background": "light"
     },
     "output_type": "display_data"
    }
   ],
   "source": [
    "plt.hist(w0_vals, bins=200)\n",
    "plt.title('estimated bias')\n",
    "plt.xlabel('$w_0$')\n",
    "plt.ylabel('count');"
   ]
  },
  {
   "cell_type": "code",
   "execution_count": 12,
   "id": "9c231aba-9584-4148-bff2-a10702d59a72",
   "metadata": {},
   "outputs": [],
   "source": [
    "w1_vals = params_df['w_1'].to_numpy()"
   ]
  },
  {
   "cell_type": "code",
   "execution_count": 15,
   "id": "a283020d-7060-4b8e-a610-ea3cb3579e65",
   "metadata": {},
   "outputs": [
    {
     "data": {
      "image/png": "[encoded data removed]",
      "text/plain": [
       "<Figure size 432x288 with 1 Axes>"
      ]
     },
     "metadata": {
      "needs_background": "light"
     },
     "output_type": "display_data"
    }
   ],
   "source": [
    "plt.hist(w1_vals, bins=100)\n",
    "plt.title('estimated coefficient')\n",
    "plt.xlabel('$w_1$')\n",
    "plt.ylabel('count');"
   ]
  }
 ],
 "metadata": {
  "kernelspec": {
   "display_name": "Python 3 (ipykernel)",
   "language": "python",
   "name": "python3"
  },
  "language_info": {
   "codemirror_mode": {
    "name": "ipython",
    "version": 3
   },
   "file_extension": ".py",
   "mimetype": "text/x-python",
   "name": "python",
   "nbconvert_exporter": "python",
   "pygments_lexer": "ipython3",
   "version": "3.7.11"
  }
 },
 "nbformat": 4,
 "nbformat_minor": 5
}
